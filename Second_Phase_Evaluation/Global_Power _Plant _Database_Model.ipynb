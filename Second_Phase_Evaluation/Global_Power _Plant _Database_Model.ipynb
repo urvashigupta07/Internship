{
 "cells": [
  {
   "cell_type": "code",
   "execution_count": 246,
   "id": "c5c8b37b",
   "metadata": {},
   "outputs": [],
   "source": [
    "import pandas as pd\n",
    "import numpy as np\n",
    "import seaborn as sns\n",
    "import warnings\n",
    "warnings.filterwarnings('ignore')"
   ]
  },
  {
   "cell_type": "code",
   "execution_count": 247,
   "id": "552645d3",
   "metadata": {},
   "outputs": [],
   "source": [
    "df=pd.read_csv(r'https://raw.githubusercontent.com/wri/global-power-plant-database/master/source_databases_csv/database_IND.csv')"
   ]
  },
  {
   "cell_type": "code",
   "execution_count": 248,
   "id": "d80341c5",
   "metadata": {},
   "outputs": [
    {
     "data": {
      "text/html": [
       "<div>\n",
       "<style scoped>\n",
       "    .dataframe tbody tr th:only-of-type {\n",
       "        vertical-align: middle;\n",
       "    }\n",
       "\n",
       "    .dataframe tbody tr th {\n",
       "        vertical-align: top;\n",
       "    }\n",
       "\n",
       "    .dataframe thead th {\n",
       "        text-align: right;\n",
       "    }\n",
       "</style>\n",
       "<table border=\"1\" class=\"dataframe\">\n",
       "  <thead>\n",
       "    <tr style=\"text-align: right;\">\n",
       "      <th></th>\n",
       "      <th>country</th>\n",
       "      <th>country_long</th>\n",
       "      <th>name</th>\n",
       "      <th>gppd_idnr</th>\n",
       "      <th>capacity_mw</th>\n",
       "      <th>latitude</th>\n",
       "      <th>longitude</th>\n",
       "      <th>primary_fuel</th>\n",
       "      <th>other_fuel1</th>\n",
       "      <th>other_fuel2</th>\n",
       "      <th>...</th>\n",
       "      <th>year_of_capacity_data</th>\n",
       "      <th>generation_gwh_2013</th>\n",
       "      <th>generation_gwh_2014</th>\n",
       "      <th>generation_gwh_2015</th>\n",
       "      <th>generation_gwh_2016</th>\n",
       "      <th>generation_gwh_2017</th>\n",
       "      <th>generation_gwh_2018</th>\n",
       "      <th>generation_gwh_2019</th>\n",
       "      <th>generation_data_source</th>\n",
       "      <th>estimated_generation_gwh</th>\n",
       "    </tr>\n",
       "  </thead>\n",
       "  <tbody>\n",
       "    <tr>\n",
       "      <th>0</th>\n",
       "      <td>IND</td>\n",
       "      <td>India</td>\n",
       "      <td>ACME Solar Tower</td>\n",
       "      <td>WRI1020239</td>\n",
       "      <td>2.5</td>\n",
       "      <td>28.1839</td>\n",
       "      <td>73.2407</td>\n",
       "      <td>Solar</td>\n",
       "      <td>NaN</td>\n",
       "      <td>NaN</td>\n",
       "      <td>...</td>\n",
       "      <td>NaN</td>\n",
       "      <td>NaN</td>\n",
       "      <td>NaN</td>\n",
       "      <td>NaN</td>\n",
       "      <td>NaN</td>\n",
       "      <td>NaN</td>\n",
       "      <td>NaN</td>\n",
       "      <td>NaN</td>\n",
       "      <td>NaN</td>\n",
       "      <td>NaN</td>\n",
       "    </tr>\n",
       "    <tr>\n",
       "      <th>1</th>\n",
       "      <td>IND</td>\n",
       "      <td>India</td>\n",
       "      <td>ADITYA CEMENT WORKS</td>\n",
       "      <td>WRI1019881</td>\n",
       "      <td>98.0</td>\n",
       "      <td>24.7663</td>\n",
       "      <td>74.6090</td>\n",
       "      <td>Coal</td>\n",
       "      <td>NaN</td>\n",
       "      <td>NaN</td>\n",
       "      <td>...</td>\n",
       "      <td>NaN</td>\n",
       "      <td>NaN</td>\n",
       "      <td>NaN</td>\n",
       "      <td>NaN</td>\n",
       "      <td>NaN</td>\n",
       "      <td>NaN</td>\n",
       "      <td>NaN</td>\n",
       "      <td>NaN</td>\n",
       "      <td>NaN</td>\n",
       "      <td>NaN</td>\n",
       "    </tr>\n",
       "    <tr>\n",
       "      <th>2</th>\n",
       "      <td>IND</td>\n",
       "      <td>India</td>\n",
       "      <td>AES Saurashtra Windfarms</td>\n",
       "      <td>WRI1026669</td>\n",
       "      <td>39.2</td>\n",
       "      <td>21.9038</td>\n",
       "      <td>69.3732</td>\n",
       "      <td>Wind</td>\n",
       "      <td>NaN</td>\n",
       "      <td>NaN</td>\n",
       "      <td>...</td>\n",
       "      <td>NaN</td>\n",
       "      <td>NaN</td>\n",
       "      <td>NaN</td>\n",
       "      <td>NaN</td>\n",
       "      <td>NaN</td>\n",
       "      <td>NaN</td>\n",
       "      <td>NaN</td>\n",
       "      <td>NaN</td>\n",
       "      <td>NaN</td>\n",
       "      <td>NaN</td>\n",
       "    </tr>\n",
       "    <tr>\n",
       "      <th>3</th>\n",
       "      <td>IND</td>\n",
       "      <td>India</td>\n",
       "      <td>AGARTALA GT</td>\n",
       "      <td>IND0000001</td>\n",
       "      <td>135.0</td>\n",
       "      <td>23.8712</td>\n",
       "      <td>91.3602</td>\n",
       "      <td>Gas</td>\n",
       "      <td>NaN</td>\n",
       "      <td>NaN</td>\n",
       "      <td>...</td>\n",
       "      <td>2019.0</td>\n",
       "      <td>NaN</td>\n",
       "      <td>617.789264</td>\n",
       "      <td>843.747</td>\n",
       "      <td>886.004428</td>\n",
       "      <td>663.774500</td>\n",
       "      <td>626.239128</td>\n",
       "      <td>NaN</td>\n",
       "      <td>Central Electricity Authority</td>\n",
       "      <td>NaN</td>\n",
       "    </tr>\n",
       "    <tr>\n",
       "      <th>4</th>\n",
       "      <td>IND</td>\n",
       "      <td>India</td>\n",
       "      <td>AKALTARA TPP</td>\n",
       "      <td>IND0000002</td>\n",
       "      <td>1800.0</td>\n",
       "      <td>21.9603</td>\n",
       "      <td>82.4091</td>\n",
       "      <td>Coal</td>\n",
       "      <td>Oil</td>\n",
       "      <td>NaN</td>\n",
       "      <td>...</td>\n",
       "      <td>2019.0</td>\n",
       "      <td>NaN</td>\n",
       "      <td>3035.550000</td>\n",
       "      <td>5916.370</td>\n",
       "      <td>6243.000000</td>\n",
       "      <td>5385.579736</td>\n",
       "      <td>7279.000000</td>\n",
       "      <td>NaN</td>\n",
       "      <td>Central Electricity Authority</td>\n",
       "      <td>NaN</td>\n",
       "    </tr>\n",
       "  </tbody>\n",
       "</table>\n",
       "<p>5 rows × 27 columns</p>\n",
       "</div>"
      ],
      "text/plain": [
       "  country country_long                      name   gppd_idnr  capacity_mw  \\\n",
       "0     IND        India          ACME Solar Tower  WRI1020239          2.5   \n",
       "1     IND        India       ADITYA CEMENT WORKS  WRI1019881         98.0   \n",
       "2     IND        India  AES Saurashtra Windfarms  WRI1026669         39.2   \n",
       "3     IND        India               AGARTALA GT  IND0000001        135.0   \n",
       "4     IND        India              AKALTARA TPP  IND0000002       1800.0   \n",
       "\n",
       "   latitude  longitude primary_fuel other_fuel1 other_fuel2  ...  \\\n",
       "0   28.1839    73.2407        Solar         NaN         NaN  ...   \n",
       "1   24.7663    74.6090         Coal         NaN         NaN  ...   \n",
       "2   21.9038    69.3732         Wind         NaN         NaN  ...   \n",
       "3   23.8712    91.3602          Gas         NaN         NaN  ...   \n",
       "4   21.9603    82.4091         Coal         Oil         NaN  ...   \n",
       "\n",
       "   year_of_capacity_data  generation_gwh_2013 generation_gwh_2014  \\\n",
       "0                    NaN                  NaN                 NaN   \n",
       "1                    NaN                  NaN                 NaN   \n",
       "2                    NaN                  NaN                 NaN   \n",
       "3                 2019.0                  NaN          617.789264   \n",
       "4                 2019.0                  NaN         3035.550000   \n",
       "\n",
       "  generation_gwh_2015 generation_gwh_2016 generation_gwh_2017  \\\n",
       "0                 NaN                 NaN                 NaN   \n",
       "1                 NaN                 NaN                 NaN   \n",
       "2                 NaN                 NaN                 NaN   \n",
       "3             843.747          886.004428          663.774500   \n",
       "4            5916.370         6243.000000         5385.579736   \n",
       "\n",
       "   generation_gwh_2018  generation_gwh_2019         generation_data_source  \\\n",
       "0                  NaN                  NaN                            NaN   \n",
       "1                  NaN                  NaN                            NaN   \n",
       "2                  NaN                  NaN                            NaN   \n",
       "3           626.239128                  NaN  Central Electricity Authority   \n",
       "4          7279.000000                  NaN  Central Electricity Authority   \n",
       "\n",
       "   estimated_generation_gwh  \n",
       "0                       NaN  \n",
       "1                       NaN  \n",
       "2                       NaN  \n",
       "3                       NaN  \n",
       "4                       NaN  \n",
       "\n",
       "[5 rows x 27 columns]"
      ]
     },
     "execution_count": 248,
     "metadata": {},
     "output_type": "execute_result"
    }
   ],
   "source": [
    "df.head()"
   ]
  },
  {
   "cell_type": "code",
   "execution_count": 249,
   "id": "337c6349",
   "metadata": {},
   "outputs": [
    {
     "data": {
      "text/html": [
       "<div>\n",
       "<style scoped>\n",
       "    .dataframe tbody tr th:only-of-type {\n",
       "        vertical-align: middle;\n",
       "    }\n",
       "\n",
       "    .dataframe tbody tr th {\n",
       "        vertical-align: top;\n",
       "    }\n",
       "\n",
       "    .dataframe thead th {\n",
       "        text-align: right;\n",
       "    }\n",
       "</style>\n",
       "<table border=\"1\" class=\"dataframe\">\n",
       "  <thead>\n",
       "    <tr style=\"text-align: right;\">\n",
       "      <th></th>\n",
       "      <th>country</th>\n",
       "      <th>country_long</th>\n",
       "      <th>name</th>\n",
       "      <th>gppd_idnr</th>\n",
       "      <th>capacity_mw</th>\n",
       "      <th>latitude</th>\n",
       "      <th>longitude</th>\n",
       "      <th>primary_fuel</th>\n",
       "      <th>other_fuel1</th>\n",
       "      <th>other_fuel2</th>\n",
       "      <th>...</th>\n",
       "      <th>year_of_capacity_data</th>\n",
       "      <th>generation_gwh_2013</th>\n",
       "      <th>generation_gwh_2014</th>\n",
       "      <th>generation_gwh_2015</th>\n",
       "      <th>generation_gwh_2016</th>\n",
       "      <th>generation_gwh_2017</th>\n",
       "      <th>generation_gwh_2018</th>\n",
       "      <th>generation_gwh_2019</th>\n",
       "      <th>generation_data_source</th>\n",
       "      <th>estimated_generation_gwh</th>\n",
       "    </tr>\n",
       "  </thead>\n",
       "  <tbody>\n",
       "    <tr>\n",
       "      <th>902</th>\n",
       "      <td>IND</td>\n",
       "      <td>India</td>\n",
       "      <td>YERMARUS TPP</td>\n",
       "      <td>IND0000513</td>\n",
       "      <td>1600.0</td>\n",
       "      <td>16.2949</td>\n",
       "      <td>77.3568</td>\n",
       "      <td>Coal</td>\n",
       "      <td>Oil</td>\n",
       "      <td>NaN</td>\n",
       "      <td>...</td>\n",
       "      <td>2019.0</td>\n",
       "      <td>NaN</td>\n",
       "      <td>NaN</td>\n",
       "      <td>0.994875</td>\n",
       "      <td>233.59665</td>\n",
       "      <td>865.4</td>\n",
       "      <td>686.5</td>\n",
       "      <td>NaN</td>\n",
       "      <td>Central Electricity Authority</td>\n",
       "      <td>NaN</td>\n",
       "    </tr>\n",
       "    <tr>\n",
       "      <th>903</th>\n",
       "      <td>IND</td>\n",
       "      <td>India</td>\n",
       "      <td>Yelesandra Solar Power Plant</td>\n",
       "      <td>WRI1026222</td>\n",
       "      <td>3.0</td>\n",
       "      <td>12.8932</td>\n",
       "      <td>78.1654</td>\n",
       "      <td>Solar</td>\n",
       "      <td>NaN</td>\n",
       "      <td>NaN</td>\n",
       "      <td>...</td>\n",
       "      <td>NaN</td>\n",
       "      <td>NaN</td>\n",
       "      <td>NaN</td>\n",
       "      <td>NaN</td>\n",
       "      <td>NaN</td>\n",
       "      <td>NaN</td>\n",
       "      <td>NaN</td>\n",
       "      <td>NaN</td>\n",
       "      <td>NaN</td>\n",
       "      <td>NaN</td>\n",
       "    </tr>\n",
       "    <tr>\n",
       "      <th>904</th>\n",
       "      <td>IND</td>\n",
       "      <td>India</td>\n",
       "      <td>Yelisirur wind power project</td>\n",
       "      <td>WRI1026776</td>\n",
       "      <td>25.5</td>\n",
       "      <td>15.2758</td>\n",
       "      <td>75.5811</td>\n",
       "      <td>Wind</td>\n",
       "      <td>NaN</td>\n",
       "      <td>NaN</td>\n",
       "      <td>...</td>\n",
       "      <td>NaN</td>\n",
       "      <td>NaN</td>\n",
       "      <td>NaN</td>\n",
       "      <td>NaN</td>\n",
       "      <td>NaN</td>\n",
       "      <td>NaN</td>\n",
       "      <td>NaN</td>\n",
       "      <td>NaN</td>\n",
       "      <td>NaN</td>\n",
       "      <td>NaN</td>\n",
       "    </tr>\n",
       "    <tr>\n",
       "      <th>905</th>\n",
       "      <td>IND</td>\n",
       "      <td>India</td>\n",
       "      <td>ZAWAR MINES</td>\n",
       "      <td>WRI1019901</td>\n",
       "      <td>80.0</td>\n",
       "      <td>24.3500</td>\n",
       "      <td>73.7477</td>\n",
       "      <td>Coal</td>\n",
       "      <td>NaN</td>\n",
       "      <td>NaN</td>\n",
       "      <td>...</td>\n",
       "      <td>NaN</td>\n",
       "      <td>NaN</td>\n",
       "      <td>NaN</td>\n",
       "      <td>NaN</td>\n",
       "      <td>NaN</td>\n",
       "      <td>NaN</td>\n",
       "      <td>NaN</td>\n",
       "      <td>NaN</td>\n",
       "      <td>NaN</td>\n",
       "      <td>NaN</td>\n",
       "    </tr>\n",
       "    <tr>\n",
       "      <th>906</th>\n",
       "      <td>IND</td>\n",
       "      <td>India</td>\n",
       "      <td>iEnergy Theni Wind Farm</td>\n",
       "      <td>WRI1026761</td>\n",
       "      <td>16.5</td>\n",
       "      <td>9.9344</td>\n",
       "      <td>77.4768</td>\n",
       "      <td>Wind</td>\n",
       "      <td>NaN</td>\n",
       "      <td>NaN</td>\n",
       "      <td>...</td>\n",
       "      <td>NaN</td>\n",
       "      <td>NaN</td>\n",
       "      <td>NaN</td>\n",
       "      <td>NaN</td>\n",
       "      <td>NaN</td>\n",
       "      <td>NaN</td>\n",
       "      <td>NaN</td>\n",
       "      <td>NaN</td>\n",
       "      <td>NaN</td>\n",
       "      <td>NaN</td>\n",
       "    </tr>\n",
       "  </tbody>\n",
       "</table>\n",
       "<p>5 rows × 27 columns</p>\n",
       "</div>"
      ],
      "text/plain": [
       "    country country_long                          name   gppd_idnr  \\\n",
       "902     IND        India                  YERMARUS TPP  IND0000513   \n",
       "903     IND        India  Yelesandra Solar Power Plant  WRI1026222   \n",
       "904     IND        India  Yelisirur wind power project  WRI1026776   \n",
       "905     IND        India                   ZAWAR MINES  WRI1019901   \n",
       "906     IND        India       iEnergy Theni Wind Farm  WRI1026761   \n",
       "\n",
       "     capacity_mw  latitude  longitude primary_fuel other_fuel1 other_fuel2  \\\n",
       "902       1600.0   16.2949    77.3568         Coal         Oil         NaN   \n",
       "903          3.0   12.8932    78.1654        Solar         NaN         NaN   \n",
       "904         25.5   15.2758    75.5811         Wind         NaN         NaN   \n",
       "905         80.0   24.3500    73.7477         Coal         NaN         NaN   \n",
       "906         16.5    9.9344    77.4768         Wind         NaN         NaN   \n",
       "\n",
       "     ...  year_of_capacity_data  generation_gwh_2013 generation_gwh_2014  \\\n",
       "902  ...                 2019.0                  NaN                 NaN   \n",
       "903  ...                    NaN                  NaN                 NaN   \n",
       "904  ...                    NaN                  NaN                 NaN   \n",
       "905  ...                    NaN                  NaN                 NaN   \n",
       "906  ...                    NaN                  NaN                 NaN   \n",
       "\n",
       "    generation_gwh_2015 generation_gwh_2016 generation_gwh_2017  \\\n",
       "902            0.994875           233.59665               865.4   \n",
       "903                 NaN                 NaN                 NaN   \n",
       "904                 NaN                 NaN                 NaN   \n",
       "905                 NaN                 NaN                 NaN   \n",
       "906                 NaN                 NaN                 NaN   \n",
       "\n",
       "     generation_gwh_2018  generation_gwh_2019         generation_data_source  \\\n",
       "902                686.5                  NaN  Central Electricity Authority   \n",
       "903                  NaN                  NaN                            NaN   \n",
       "904                  NaN                  NaN                            NaN   \n",
       "905                  NaN                  NaN                            NaN   \n",
       "906                  NaN                  NaN                            NaN   \n",
       "\n",
       "     estimated_generation_gwh  \n",
       "902                       NaN  \n",
       "903                       NaN  \n",
       "904                       NaN  \n",
       "905                       NaN  \n",
       "906                       NaN  \n",
       "\n",
       "[5 rows x 27 columns]"
      ]
     },
     "execution_count": 249,
     "metadata": {},
     "output_type": "execute_result"
    }
   ],
   "source": [
    "df.tail()"
   ]
  },
  {
   "cell_type": "code",
   "execution_count": 250,
   "id": "d16d3815",
   "metadata": {},
   "outputs": [
    {
     "data": {
      "text/plain": [
       "(907, 27)"
      ]
     },
     "execution_count": 250,
     "metadata": {},
     "output_type": "execute_result"
    }
   ],
   "source": [
    "df.shape"
   ]
  },
  {
   "cell_type": "code",
   "execution_count": 251,
   "id": "991696fc",
   "metadata": {},
   "outputs": [
    {
     "data": {
      "text/plain": [
       "country                       0\n",
       "country_long                  0\n",
       "name                          0\n",
       "gppd_idnr                     0\n",
       "capacity_mw                   0\n",
       "latitude                     46\n",
       "longitude                    46\n",
       "primary_fuel                  0\n",
       "other_fuel1                 709\n",
       "other_fuel2                 906\n",
       "other_fuel3                 907\n",
       "commissioning_year          380\n",
       "owner                       565\n",
       "source                        0\n",
       "url                           0\n",
       "geolocation_source           19\n",
       "wepp_id                     907\n",
       "year_of_capacity_data       388\n",
       "generation_gwh_2013         907\n",
       "generation_gwh_2014         509\n",
       "generation_gwh_2015         485\n",
       "generation_gwh_2016         473\n",
       "generation_gwh_2017         467\n",
       "generation_gwh_2018         459\n",
       "generation_gwh_2019         907\n",
       "generation_data_source      458\n",
       "estimated_generation_gwh    907\n",
       "dtype: int64"
      ]
     },
     "execution_count": 251,
     "metadata": {},
     "output_type": "execute_result"
    }
   ],
   "source": [
    "df.isnull().sum()"
   ]
  },
  {
   "cell_type": "code",
   "execution_count": 252,
   "id": "350f1ce9",
   "metadata": {},
   "outputs": [
    {
     "name": "stdout",
     "output_type": "stream",
     "text": [
      "<class 'pandas.core.frame.DataFrame'>\n",
      "RangeIndex: 907 entries, 0 to 906\n",
      "Data columns (total 27 columns):\n",
      " #   Column                    Non-Null Count  Dtype  \n",
      "---  ------                    --------------  -----  \n",
      " 0   country                   907 non-null    object \n",
      " 1   country_long              907 non-null    object \n",
      " 2   name                      907 non-null    object \n",
      " 3   gppd_idnr                 907 non-null    object \n",
      " 4   capacity_mw               907 non-null    float64\n",
      " 5   latitude                  861 non-null    float64\n",
      " 6   longitude                 861 non-null    float64\n",
      " 7   primary_fuel              907 non-null    object \n",
      " 8   other_fuel1               198 non-null    object \n",
      " 9   other_fuel2               1 non-null      object \n",
      " 10  other_fuel3               0 non-null      float64\n",
      " 11  commissioning_year        527 non-null    float64\n",
      " 12  owner                     342 non-null    object \n",
      " 13  source                    907 non-null    object \n",
      " 14  url                       907 non-null    object \n",
      " 15  geolocation_source        888 non-null    object \n",
      " 16  wepp_id                   0 non-null      float64\n",
      " 17  year_of_capacity_data     519 non-null    float64\n",
      " 18  generation_gwh_2013       0 non-null      float64\n",
      " 19  generation_gwh_2014       398 non-null    float64\n",
      " 20  generation_gwh_2015       422 non-null    float64\n",
      " 21  generation_gwh_2016       434 non-null    float64\n",
      " 22  generation_gwh_2017       440 non-null    float64\n",
      " 23  generation_gwh_2018       448 non-null    float64\n",
      " 24  generation_gwh_2019       0 non-null      float64\n",
      " 25  generation_data_source    449 non-null    object \n",
      " 26  estimated_generation_gwh  0 non-null      float64\n",
      "dtypes: float64(15), object(12)\n",
      "memory usage: 191.4+ KB\n"
     ]
    }
   ],
   "source": [
    "df.info()"
   ]
  },
  {
   "cell_type": "markdown",
   "id": "6f0a686c",
   "metadata": {},
   "source": [
    "Lets remove some columns those having maximum number of null values."
   ]
  },
  {
   "cell_type": "code",
   "execution_count": 254,
   "id": "682859a3",
   "metadata": {},
   "outputs": [],
   "source": [
    "df.drop(['estimated_generation_gwh','wepp_id','other_fuel3','other_fuel1','other_fuel2'],axis=1,inplace=True)"
   ]
  },
  {
   "cell_type": "code",
   "execution_count": 255,
   "id": "88a81af0",
   "metadata": {},
   "outputs": [
    {
     "data": {
      "text/plain": [
       "country                     0\n",
       "country_long                0\n",
       "name                        0\n",
       "gppd_idnr                   0\n",
       "capacity_mw                 0\n",
       "latitude                   46\n",
       "longitude                  46\n",
       "primary_fuel                0\n",
       "commissioning_year        380\n",
       "owner                     565\n",
       "source                      0\n",
       "url                         0\n",
       "geolocation_source         19\n",
       "year_of_capacity_data     388\n",
       "generation_gwh_2013       907\n",
       "generation_gwh_2014       509\n",
       "generation_gwh_2015       485\n",
       "generation_gwh_2016       473\n",
       "generation_gwh_2017       467\n",
       "generation_gwh_2018       459\n",
       "generation_gwh_2019       907\n",
       "generation_data_source    458\n",
       "dtype: int64"
      ]
     },
     "execution_count": 255,
     "metadata": {},
     "output_type": "execute_result"
    }
   ],
   "source": [
    "df.isnull().sum()"
   ]
  },
  {
   "cell_type": "markdown",
   "id": "2a29dcbf",
   "metadata": {},
   "source": [
    "Now lets remove unwanted/not required/not so important columns"
   ]
  },
  {
   "cell_type": "code",
   "execution_count": 257,
   "id": "97ab4df0",
   "metadata": {},
   "outputs": [],
   "source": [
    "df.drop(['gppd_idnr','owner','generation_data_source','generation_gwh_2013'],axis=1,inplace=True)"
   ]
  },
  {
   "cell_type": "code",
   "execution_count": 258,
   "id": "51702bf1",
   "metadata": {},
   "outputs": [
    {
     "data": {
      "text/plain": [
       "country                    0\n",
       "country_long               0\n",
       "name                       0\n",
       "capacity_mw                0\n",
       "latitude                  46\n",
       "longitude                 46\n",
       "primary_fuel               0\n",
       "commissioning_year       380\n",
       "source                     0\n",
       "url                        0\n",
       "geolocation_source        19\n",
       "year_of_capacity_data    388\n",
       "generation_gwh_2014      509\n",
       "generation_gwh_2015      485\n",
       "generation_gwh_2016      473\n",
       "generation_gwh_2017      467\n",
       "generation_gwh_2018      459\n",
       "generation_gwh_2019      907\n",
       "dtype: int64"
      ]
     },
     "execution_count": 258,
     "metadata": {},
     "output_type": "execute_result"
    }
   ],
   "source": [
    "df.isnull().sum()"
   ]
  },
  {
   "cell_type": "code",
   "execution_count": 259,
   "id": "1c9ba6ce",
   "metadata": {},
   "outputs": [
    {
     "data": {
      "text/html": [
       "<div>\n",
       "<style scoped>\n",
       "    .dataframe tbody tr th:only-of-type {\n",
       "        vertical-align: middle;\n",
       "    }\n",
       "\n",
       "    .dataframe tbody tr th {\n",
       "        vertical-align: top;\n",
       "    }\n",
       "\n",
       "    .dataframe thead th {\n",
       "        text-align: right;\n",
       "    }\n",
       "</style>\n",
       "<table border=\"1\" class=\"dataframe\">\n",
       "  <thead>\n",
       "    <tr style=\"text-align: right;\">\n",
       "      <th></th>\n",
       "      <th>capacity_mw</th>\n",
       "      <th>latitude</th>\n",
       "      <th>longitude</th>\n",
       "      <th>commissioning_year</th>\n",
       "      <th>year_of_capacity_data</th>\n",
       "      <th>generation_gwh_2014</th>\n",
       "      <th>generation_gwh_2015</th>\n",
       "      <th>generation_gwh_2016</th>\n",
       "      <th>generation_gwh_2017</th>\n",
       "      <th>generation_gwh_2018</th>\n",
       "      <th>generation_gwh_2019</th>\n",
       "    </tr>\n",
       "  </thead>\n",
       "  <tbody>\n",
       "    <tr>\n",
       "      <th>count</th>\n",
       "      <td>907.000000</td>\n",
       "      <td>861.000000</td>\n",
       "      <td>861.000000</td>\n",
       "      <td>527.000000</td>\n",
       "      <td>519.0</td>\n",
       "      <td>398.000000</td>\n",
       "      <td>422.000000</td>\n",
       "      <td>434.000000</td>\n",
       "      <td>440.000000</td>\n",
       "      <td>448.000000</td>\n",
       "      <td>0.0</td>\n",
       "    </tr>\n",
       "    <tr>\n",
       "      <th>mean</th>\n",
       "      <td>326.223755</td>\n",
       "      <td>21.197918</td>\n",
       "      <td>77.464907</td>\n",
       "      <td>1997.091082</td>\n",
       "      <td>2019.0</td>\n",
       "      <td>2431.823590</td>\n",
       "      <td>2428.226946</td>\n",
       "      <td>2467.936859</td>\n",
       "      <td>2547.759305</td>\n",
       "      <td>2600.804099</td>\n",
       "      <td>NaN</td>\n",
       "    </tr>\n",
       "    <tr>\n",
       "      <th>std</th>\n",
       "      <td>590.085456</td>\n",
       "      <td>6.239612</td>\n",
       "      <td>4.939316</td>\n",
       "      <td>17.082868</td>\n",
       "      <td>0.0</td>\n",
       "      <td>4026.440035</td>\n",
       "      <td>4194.596959</td>\n",
       "      <td>4162.884308</td>\n",
       "      <td>4196.991169</td>\n",
       "      <td>4314.880456</td>\n",
       "      <td>NaN</td>\n",
       "    </tr>\n",
       "    <tr>\n",
       "      <th>min</th>\n",
       "      <td>0.000000</td>\n",
       "      <td>8.168900</td>\n",
       "      <td>68.644700</td>\n",
       "      <td>1927.000000</td>\n",
       "      <td>2019.0</td>\n",
       "      <td>0.000000</td>\n",
       "      <td>0.000000</td>\n",
       "      <td>0.000000</td>\n",
       "      <td>0.000000</td>\n",
       "      <td>0.000000</td>\n",
       "      <td>NaN</td>\n",
       "    </tr>\n",
       "    <tr>\n",
       "      <th>25%</th>\n",
       "      <td>16.725000</td>\n",
       "      <td>16.773900</td>\n",
       "      <td>74.256200</td>\n",
       "      <td>1988.000000</td>\n",
       "      <td>2019.0</td>\n",
       "      <td>223.557672</td>\n",
       "      <td>176.381063</td>\n",
       "      <td>188.285252</td>\n",
       "      <td>177.874930</td>\n",
       "      <td>193.378250</td>\n",
       "      <td>NaN</td>\n",
       "    </tr>\n",
       "    <tr>\n",
       "      <th>50%</th>\n",
       "      <td>59.200000</td>\n",
       "      <td>21.780000</td>\n",
       "      <td>76.719500</td>\n",
       "      <td>2001.000000</td>\n",
       "      <td>2019.0</td>\n",
       "      <td>801.123775</td>\n",
       "      <td>711.181225</td>\n",
       "      <td>737.205450</td>\n",
       "      <td>817.977250</td>\n",
       "      <td>751.644375</td>\n",
       "      <td>NaN</td>\n",
       "    </tr>\n",
       "    <tr>\n",
       "      <th>75%</th>\n",
       "      <td>385.250000</td>\n",
       "      <td>25.512400</td>\n",
       "      <td>79.440800</td>\n",
       "      <td>2012.000000</td>\n",
       "      <td>2019.0</td>\n",
       "      <td>3035.306250</td>\n",
       "      <td>3084.121250</td>\n",
       "      <td>3282.861313</td>\n",
       "      <td>3275.690475</td>\n",
       "      <td>3143.535900</td>\n",
       "      <td>NaN</td>\n",
       "    </tr>\n",
       "    <tr>\n",
       "      <th>max</th>\n",
       "      <td>4760.000000</td>\n",
       "      <td>34.649000</td>\n",
       "      <td>95.408000</td>\n",
       "      <td>2018.000000</td>\n",
       "      <td>2019.0</td>\n",
       "      <td>28127.000000</td>\n",
       "      <td>30539.000000</td>\n",
       "      <td>30015.000000</td>\n",
       "      <td>35116.000000</td>\n",
       "      <td>35136.000000</td>\n",
       "      <td>NaN</td>\n",
       "    </tr>\n",
       "  </tbody>\n",
       "</table>\n",
       "</div>"
      ],
      "text/plain": [
       "       capacity_mw    latitude   longitude  commissioning_year  \\\n",
       "count   907.000000  861.000000  861.000000          527.000000   \n",
       "mean    326.223755   21.197918   77.464907         1997.091082   \n",
       "std     590.085456    6.239612    4.939316           17.082868   \n",
       "min       0.000000    8.168900   68.644700         1927.000000   \n",
       "25%      16.725000   16.773900   74.256200         1988.000000   \n",
       "50%      59.200000   21.780000   76.719500         2001.000000   \n",
       "75%     385.250000   25.512400   79.440800         2012.000000   \n",
       "max    4760.000000   34.649000   95.408000         2018.000000   \n",
       "\n",
       "       year_of_capacity_data  generation_gwh_2014  generation_gwh_2015  \\\n",
       "count                  519.0           398.000000           422.000000   \n",
       "mean                  2019.0          2431.823590          2428.226946   \n",
       "std                      0.0          4026.440035          4194.596959   \n",
       "min                   2019.0             0.000000             0.000000   \n",
       "25%                   2019.0           223.557672           176.381063   \n",
       "50%                   2019.0           801.123775           711.181225   \n",
       "75%                   2019.0          3035.306250          3084.121250   \n",
       "max                   2019.0         28127.000000         30539.000000   \n",
       "\n",
       "       generation_gwh_2016  generation_gwh_2017  generation_gwh_2018  \\\n",
       "count           434.000000           440.000000           448.000000   \n",
       "mean           2467.936859          2547.759305          2600.804099   \n",
       "std            4162.884308          4196.991169          4314.880456   \n",
       "min               0.000000             0.000000             0.000000   \n",
       "25%             188.285252           177.874930           193.378250   \n",
       "50%             737.205450           817.977250           751.644375   \n",
       "75%            3282.861313          3275.690475          3143.535900   \n",
       "max           30015.000000         35116.000000         35136.000000   \n",
       "\n",
       "       generation_gwh_2019  \n",
       "count                  0.0  \n",
       "mean                   NaN  \n",
       "std                    NaN  \n",
       "min                    NaN  \n",
       "25%                    NaN  \n",
       "50%                    NaN  \n",
       "75%                    NaN  \n",
       "max                    NaN  "
      ]
     },
     "execution_count": 259,
     "metadata": {},
     "output_type": "execute_result"
    }
   ],
   "source": [
    "df.describe()"
   ]
  },
  {
   "cell_type": "code",
   "execution_count": 260,
   "id": "8ade5658",
   "metadata": {},
   "outputs": [
    {
     "data": {
      "text/plain": [
       "1"
      ]
     },
     "execution_count": 260,
     "metadata": {},
     "output_type": "execute_result"
    }
   ],
   "source": [
    "df['year_of_capacity_data'].nunique()"
   ]
  },
  {
   "cell_type": "code",
   "execution_count": 261,
   "id": "70fadec0",
   "metadata": {},
   "outputs": [
    {
     "data": {
      "text/plain": [
       "907"
      ]
     },
     "execution_count": 261,
     "metadata": {},
     "output_type": "execute_result"
    }
   ],
   "source": [
    "df['name'].nunique()"
   ]
  },
  {
   "cell_type": "code",
   "execution_count": 262,
   "id": "f412b59d",
   "metadata": {},
   "outputs": [],
   "source": [
    "df.drop(['name','url'],axis=1,inplace=True)"
   ]
  },
  {
   "cell_type": "code",
   "execution_count": 263,
   "id": "13c0da9c",
   "metadata": {},
   "outputs": [
    {
     "data": {
      "text/plain": [
       "array(['National Renewable Energy Laboratory', 'WRI', nan,\n",
       "       'Industry About'], dtype=object)"
      ]
     },
     "execution_count": 263,
     "metadata": {},
     "output_type": "execute_result"
    }
   ],
   "source": [
    "df['geolocation_source'].unique()"
   ]
  },
  {
   "cell_type": "code",
   "execution_count": 264,
   "id": "50faf0f2",
   "metadata": {},
   "outputs": [],
   "source": [
    "# Lets fill the geolocation_source with mode because category data\n",
    "df['geolocation_source'].fillna(df['geolocation_source'].mode()[0], inplace=True)"
   ]
  },
  {
   "cell_type": "code",
   "execution_count": 265,
   "id": "c1ce99c2",
   "metadata": {},
   "outputs": [],
   "source": [
    "# Now removing 'year_of_capacity_data' column\n",
    "df.drop('year_of_capacity_data',axis=1,inplace=True)"
   ]
  },
  {
   "cell_type": "code",
   "execution_count": 266,
   "id": "4ca9ceda",
   "metadata": {},
   "outputs": [],
   "source": [
    "# Filling null values with median in numerical columns\n",
    "df.fillna(df.median()[0], inplace=True)"
   ]
  },
  {
   "cell_type": "code",
   "execution_count": 267,
   "id": "8ac28c33",
   "metadata": {},
   "outputs": [
    {
     "data": {
      "text/plain": [
       "country                0\n",
       "country_long           0\n",
       "capacity_mw            0\n",
       "latitude               0\n",
       "longitude              0\n",
       "primary_fuel           0\n",
       "commissioning_year     0\n",
       "source                 0\n",
       "geolocation_source     0\n",
       "generation_gwh_2014    0\n",
       "generation_gwh_2015    0\n",
       "generation_gwh_2016    0\n",
       "generation_gwh_2017    0\n",
       "generation_gwh_2018    0\n",
       "generation_gwh_2019    0\n",
       "dtype: int64"
      ]
     },
     "execution_count": 267,
     "metadata": {},
     "output_type": "execute_result"
    }
   ],
   "source": [
    "df.isnull().sum()"
   ]
  },
  {
   "cell_type": "code",
   "execution_count": 268,
   "id": "9a53a323",
   "metadata": {},
   "outputs": [
    {
     "data": {
      "text/plain": [
       "191"
      ]
     },
     "execution_count": 268,
     "metadata": {},
     "output_type": "execute_result"
    }
   ],
   "source": [
    "df['source'].nunique()"
   ]
  },
  {
   "cell_type": "code",
   "execution_count": 269,
   "id": "a8e13ee0",
   "metadata": {},
   "outputs": [
    {
     "data": {
      "text/plain": [
       "3"
      ]
     },
     "execution_count": 269,
     "metadata": {},
     "output_type": "execute_result"
    }
   ],
   "source": [
    "df['geolocation_source'].nunique()"
   ]
  },
  {
   "cell_type": "code",
   "execution_count": 270,
   "id": "8dbedc90",
   "metadata": {},
   "outputs": [
    {
     "data": {
      "text/plain": [
       "1"
      ]
     },
     "execution_count": 270,
     "metadata": {},
     "output_type": "execute_result"
    }
   ],
   "source": [
    "df['country'].nunique()"
   ]
  },
  {
   "cell_type": "markdown",
   "id": "ed53e7ed",
   "metadata": {},
   "source": [
    "Dropping columns'country' and 'country_long' because its having India in data."
   ]
  },
  {
   "cell_type": "code",
   "execution_count": 272,
   "id": "51c7c557",
   "metadata": {},
   "outputs": [],
   "source": [
    "df.drop(['country','country_long'],axis=1,inplace=True)"
   ]
  },
  {
   "cell_type": "code",
   "execution_count": 273,
   "id": "ec70d25f",
   "metadata": {},
   "outputs": [
    {
     "name": "stdout",
     "output_type": "stream",
     "text": [
      "<class 'pandas.core.frame.DataFrame'>\n",
      "RangeIndex: 907 entries, 0 to 906\n",
      "Data columns (total 13 columns):\n",
      " #   Column               Non-Null Count  Dtype  \n",
      "---  ------               --------------  -----  \n",
      " 0   capacity_mw          907 non-null    float64\n",
      " 1   latitude             907 non-null    float64\n",
      " 2   longitude            907 non-null    float64\n",
      " 3   primary_fuel         907 non-null    object \n",
      " 4   commissioning_year   907 non-null    float64\n",
      " 5   source               907 non-null    object \n",
      " 6   geolocation_source   907 non-null    object \n",
      " 7   generation_gwh_2014  907 non-null    float64\n",
      " 8   generation_gwh_2015  907 non-null    float64\n",
      " 9   generation_gwh_2016  907 non-null    float64\n",
      " 10  generation_gwh_2017  907 non-null    float64\n",
      " 11  generation_gwh_2018  907 non-null    float64\n",
      " 12  generation_gwh_2019  907 non-null    float64\n",
      "dtypes: float64(10), object(3)\n",
      "memory usage: 92.2+ KB\n"
     ]
    }
   ],
   "source": [
    "df.info()"
   ]
  },
  {
   "cell_type": "code",
   "execution_count": 274,
   "id": "ef51436c",
   "metadata": {},
   "outputs": [
    {
     "data": {
      "text/plain": [
       "<AxesSubplot:xlabel='primary_fuel', ylabel='count'>"
      ]
     },
     "execution_count": 274,
     "metadata": {},
     "output_type": "execute_result"
    },
    {
     "data": {
      "image/png": "[encoded data removed]",
      "text/plain": [
       "<Figure size 432x288 with 1 Axes>"
      ]
     },
     "metadata": {},
     "output_type": "display_data"
    }
   ],
   "source": [
    "sns.set_style(\"whitegrid\")\n",
    "sns.countplot(x=\"primary_fuel\", data=df)"
   ]
  },
  {
   "cell_type": "code",
   "execution_count": 275,
   "id": "d354d691",
   "metadata": {},
   "outputs": [
    {
     "data": {
      "text/html": [
       "<div>\n",
       "<style scoped>\n",
       "    .dataframe tbody tr th:only-of-type {\n",
       "        vertical-align: middle;\n",
       "    }\n",
       "\n",
       "    .dataframe tbody tr th {\n",
       "        vertical-align: top;\n",
       "    }\n",
       "\n",
       "    .dataframe thead th {\n",
       "        text-align: right;\n",
       "    }\n",
       "</style>\n",
       "<table border=\"1\" class=\"dataframe\">\n",
       "  <thead>\n",
       "    <tr style=\"text-align: right;\">\n",
       "      <th></th>\n",
       "      <th>capacity_mw</th>\n",
       "      <th>latitude</th>\n",
       "      <th>longitude</th>\n",
       "      <th>primary_fuel</th>\n",
       "      <th>commissioning_year</th>\n",
       "      <th>source</th>\n",
       "      <th>geolocation_source</th>\n",
       "      <th>generation_gwh_2014</th>\n",
       "      <th>generation_gwh_2015</th>\n",
       "      <th>generation_gwh_2016</th>\n",
       "      <th>generation_gwh_2017</th>\n",
       "      <th>generation_gwh_2018</th>\n",
       "      <th>generation_gwh_2019</th>\n",
       "    </tr>\n",
       "  </thead>\n",
       "  <tbody>\n",
       "    <tr>\n",
       "      <th>0</th>\n",
       "      <td>2.5</td>\n",
       "      <td>28.1839</td>\n",
       "      <td>73.2407</td>\n",
       "      <td>Solar</td>\n",
       "      <td>2011.0</td>\n",
       "      <td>National Renewable Energy Laboratory</td>\n",
       "      <td>National Renewable Energy Laboratory</td>\n",
       "      <td>59.200000</td>\n",
       "      <td>59.200</td>\n",
       "      <td>59.200000</td>\n",
       "      <td>59.200000</td>\n",
       "      <td>59.200000</td>\n",
       "      <td>59.2</td>\n",
       "    </tr>\n",
       "    <tr>\n",
       "      <th>1</th>\n",
       "      <td>98.0</td>\n",
       "      <td>24.7663</td>\n",
       "      <td>74.6090</td>\n",
       "      <td>Coal</td>\n",
       "      <td>59.2</td>\n",
       "      <td>Ultratech Cement ltd</td>\n",
       "      <td>WRI</td>\n",
       "      <td>59.200000</td>\n",
       "      <td>59.200</td>\n",
       "      <td>59.200000</td>\n",
       "      <td>59.200000</td>\n",
       "      <td>59.200000</td>\n",
       "      <td>59.2</td>\n",
       "    </tr>\n",
       "    <tr>\n",
       "      <th>2</th>\n",
       "      <td>39.2</td>\n",
       "      <td>21.9038</td>\n",
       "      <td>69.3732</td>\n",
       "      <td>Wind</td>\n",
       "      <td>59.2</td>\n",
       "      <td>CDM</td>\n",
       "      <td>WRI</td>\n",
       "      <td>59.200000</td>\n",
       "      <td>59.200</td>\n",
       "      <td>59.200000</td>\n",
       "      <td>59.200000</td>\n",
       "      <td>59.200000</td>\n",
       "      <td>59.2</td>\n",
       "    </tr>\n",
       "    <tr>\n",
       "      <th>3</th>\n",
       "      <td>135.0</td>\n",
       "      <td>23.8712</td>\n",
       "      <td>91.3602</td>\n",
       "      <td>Gas</td>\n",
       "      <td>2004.0</td>\n",
       "      <td>Central Electricity Authority</td>\n",
       "      <td>WRI</td>\n",
       "      <td>617.789264</td>\n",
       "      <td>843.747</td>\n",
       "      <td>886.004428</td>\n",
       "      <td>663.774500</td>\n",
       "      <td>626.239128</td>\n",
       "      <td>59.2</td>\n",
       "    </tr>\n",
       "    <tr>\n",
       "      <th>4</th>\n",
       "      <td>1800.0</td>\n",
       "      <td>21.9603</td>\n",
       "      <td>82.4091</td>\n",
       "      <td>Coal</td>\n",
       "      <td>2015.0</td>\n",
       "      <td>Central Electricity Authority</td>\n",
       "      <td>WRI</td>\n",
       "      <td>3035.550000</td>\n",
       "      <td>5916.370</td>\n",
       "      <td>6243.000000</td>\n",
       "      <td>5385.579736</td>\n",
       "      <td>7279.000000</td>\n",
       "      <td>59.2</td>\n",
       "    </tr>\n",
       "  </tbody>\n",
       "</table>\n",
       "</div>"
      ],
      "text/plain": [
       "   capacity_mw  latitude  longitude primary_fuel  commissioning_year  \\\n",
       "0          2.5   28.1839    73.2407        Solar              2011.0   \n",
       "1         98.0   24.7663    74.6090         Coal                59.2   \n",
       "2         39.2   21.9038    69.3732         Wind                59.2   \n",
       "3        135.0   23.8712    91.3602          Gas              2004.0   \n",
       "4       1800.0   21.9603    82.4091         Coal              2015.0   \n",
       "\n",
       "                                 source                    geolocation_source  \\\n",
       "0  National Renewable Energy Laboratory  National Renewable Energy Laboratory   \n",
       "1                  Ultratech Cement ltd                                   WRI   \n",
       "2                                   CDM                                   WRI   \n",
       "3         Central Electricity Authority                                   WRI   \n",
       "4         Central Electricity Authority                                   WRI   \n",
       "\n",
       "   generation_gwh_2014  generation_gwh_2015  generation_gwh_2016  \\\n",
       "0            59.200000               59.200            59.200000   \n",
       "1            59.200000               59.200            59.200000   \n",
       "2            59.200000               59.200            59.200000   \n",
       "3           617.789264              843.747           886.004428   \n",
       "4          3035.550000             5916.370          6243.000000   \n",
       "\n",
       "   generation_gwh_2017  generation_gwh_2018  generation_gwh_2019  \n",
       "0            59.200000            59.200000                 59.2  \n",
       "1            59.200000            59.200000                 59.2  \n",
       "2            59.200000            59.200000                 59.2  \n",
       "3           663.774500           626.239128                 59.2  \n",
       "4          5385.579736          7279.000000                 59.2  "
      ]
     },
     "execution_count": 275,
     "metadata": {},
     "output_type": "execute_result"
    }
   ],
   "source": [
    "#EDA\n",
    "import matplotlib.pyplot as plt\n",
    "df.head()"
   ]
  },
  {
   "cell_type": "code",
   "execution_count": 276,
   "id": "ff98a18f",
   "metadata": {},
   "outputs": [],
   "source": [
    "dfcorr=df.corr()"
   ]
  },
  {
   "cell_type": "code",
   "execution_count": 277,
   "id": "36585647",
   "metadata": {},
   "outputs": [
    {
     "data": {
      "text/plain": [
       "<AxesSubplot:>"
      ]
     },
     "execution_count": 277,
     "metadata": {},
     "output_type": "execute_result"
    },
    {
     "data": {
      "image/png": "[encoded data removed]",
      "text/plain": [
       "<Figure size 432x288 with 2 Axes>"
      ]
     },
     "metadata": {},
     "output_type": "display_data"
    }
   ],
   "source": [
    "sns.heatmap(dfcorr,annot=True, linewidth=1)"
   ]
  },
  {
   "cell_type": "markdown",
   "id": "ad3bb745",
   "metadata": {},
   "source": [
    "Here we can notice generation_gwh 2014,2015,2016 ,2017 are positively correlated to capacity_mw and latitude is negative correlated"
   ]
  },
  {
   "cell_type": "code",
   "execution_count": 279,
   "id": "83915b44",
   "metadata": {},
   "outputs": [
    {
     "data": {
      "text/plain": [
       "<AxesSubplot:xlabel='capacity_mw', ylabel='generation_gwh_2014'>"
      ]
     },
     "execution_count": 279,
     "metadata": {},
     "output_type": "execute_result"
    },
    {
     "data": {
      "image/png": "[encoded data removed]",
      "text/plain": [
       "<Figure size 576x288 with 1 Axes>"
      ]
     },
     "metadata": {},
     "output_type": "display_data"
    }
   ],
   "source": [
    "plt.figure(figsize=(8,4))\n",
    "sns.scatterplot(x='capacity_mw',y='generation_gwh_2014',data=df)"
   ]
  },
  {
   "cell_type": "code",
   "execution_count": 281,
   "id": "b50789aa",
   "metadata": {},
   "outputs": [
    {
     "data": {
      "text/plain": [
       "<AxesSubplot:xlabel='capacity_mw', ylabel='generation_gwh_2015'>"
      ]
     },
     "execution_count": 281,
     "metadata": {},
     "output_type": "execute_result"
    },
    {
     "data": {
      "image/png": "[encoded data removed]",
      "text/plain": [
       "<Figure size 576x288 with 1 Axes>"
      ]
     },
     "metadata": {},
     "output_type": "display_data"
    }
   ],
   "source": [
    "plt.figure(figsize=(8,4))\n",
    "sns.scatterplot(x='capacity_mw',y='generation_gwh_2015',data=df)"
   ]
  },
  {
   "cell_type": "code",
   "execution_count": 283,
   "id": "26651be1",
   "metadata": {},
   "outputs": [
    {
     "data": {
      "text/plain": [
       "<AxesSubplot:xlabel='capacity_mw', ylabel='generation_gwh_2016'>"
      ]
     },
     "execution_count": 283,
     "metadata": {},
     "output_type": "execute_result"
    },
    {
     "data": {
      "image/png": "[encoded data removed]",
      "text/plain": [
       "<Figure size 576x288 with 1 Axes>"
      ]
     },
     "metadata": {},
     "output_type": "display_data"
    }
   ],
   "source": [
    "plt.figure(figsize=(8,4))\n",
    "sns.scatterplot(x='capacity_mw',y='generation_gwh_2016',data=df)"
   ]
  },
  {
   "cell_type": "code",
   "execution_count": 285,
   "id": "c739828d",
   "metadata": {},
   "outputs": [
    {
     "data": {
      "text/plain": [
       "<AxesSubplot:xlabel='capacity_mw', ylabel='generation_gwh_2017'>"
      ]
     },
     "execution_count": 285,
     "metadata": {},
     "output_type": "execute_result"
    },
    {
     "data": {
      "image/png": "[encoded data removed]",
      "text/plain": [
       "<Figure size 576x288 with 1 Axes>"
      ]
     },
     "metadata": {},
     "output_type": "display_data"
    }
   ],
   "source": [
    "plt.figure(figsize=(8,4))\n",
    "sns.scatterplot(x='capacity_mw',y='generation_gwh_2017',data=df)"
   ]
  },
  {
   "cell_type": "markdown",
   "id": "723008f8",
   "metadata": {},
   "source": [
    "2014 to 2017 genartion of electricity is increasing with capacity."
   ]
  },
  {
   "cell_type": "code",
   "execution_count": 287,
   "id": "96a4edcd",
   "metadata": {},
   "outputs": [
    {
     "data": {
      "text/plain": [
       "<AxesSubplot:xlabel='capacity_mw', ylabel='latitude'>"
      ]
     },
     "execution_count": 287,
     "metadata": {},
     "output_type": "execute_result"
    },
    {
     "data": {
      "image/png": "[encoded data removed]",
      "text/plain": [
       "<Figure size 576x288 with 1 Axes>"
      ]
     },
     "metadata": {},
     "output_type": "display_data"
    }
   ],
   "source": [
    "plt.figure(figsize=(8,4))\n",
    "sns.scatterplot(x='capacity_mw',y='latitude',data=df)"
   ]
  },
  {
   "cell_type": "code",
   "execution_count": 288,
   "id": "61f7c2dc",
   "metadata": {},
   "outputs": [
    {
     "data": {
      "text/plain": [
       "<AxesSubplot:xlabel='primary_fuel', ylabel='generation_gwh_2014'>"
      ]
     },
     "execution_count": 288,
     "metadata": {},
     "output_type": "execute_result"
    },
    {
     "data": {
      "image/png": "[encoded data removed]",
      "text/plain": [
       "<Figure size 576x288 with 1 Axes>"
      ]
     },
     "metadata": {},
     "output_type": "display_data"
    }
   ],
   "source": [
    "plt.figure(figsize=(8,4))\n",
    "sns.scatterplot(x='primary_fuel',y='generation_gwh_2014',data=df)"
   ]
  },
  {
   "cell_type": "code",
   "execution_count": 290,
   "id": "4bcfb244",
   "metadata": {},
   "outputs": [
    {
     "data": {
      "text/plain": [
       "<AxesSubplot:xlabel='primary_fuel', ylabel='generation_gwh_2015'>"
      ]
     },
     "execution_count": 290,
     "metadata": {},
     "output_type": "execute_result"
    },
    {
     "data": {
      "image/png": "[encoded data removed]",
      "text/plain": [
       "<Figure size 576x288 with 1 Axes>"
      ]
     },
     "metadata": {},
     "output_type": "display_data"
    }
   ],
   "source": [
    "plt.figure(figsize=(8,4))\n",
    "sns.scatterplot(x='primary_fuel',y='generation_gwh_2015',data=df)"
   ]
  },
  {
   "cell_type": "code",
   "execution_count": 291,
   "id": "3c90e274",
   "metadata": {},
   "outputs": [
    {
     "data": {
      "text/plain": [
       "<AxesSubplot:xlabel='primary_fuel', ylabel='generation_gwh_2016'>"
      ]
     },
     "execution_count": 291,
     "metadata": {},
     "output_type": "execute_result"
    },
    {
     "data": {
      "image/png": "[encoded data removed]",
      "text/plain": [
       "<Figure size 576x288 with 1 Axes>"
      ]
     },
     "metadata": {},
     "output_type": "display_data"
    }
   ],
   "source": [
    "plt.figure(figsize=(8,4))\n",
    "sns.scatterplot(x='primary_fuel',y='generation_gwh_2016',data=df)"
   ]
  },
  {
   "cell_type": "code",
   "execution_count": 292,
   "id": "523671b2",
   "metadata": {},
   "outputs": [
    {
     "data": {
      "text/plain": [
       "<AxesSubplot:xlabel='primary_fuel', ylabel='generation_gwh_2017'>"
      ]
     },
     "execution_count": 292,
     "metadata": {},
     "output_type": "execute_result"
    },
    {
     "data": {
      "image/png": "[encoded data removed]",
      "text/plain": [
       "<Figure size 576x288 with 1 Axes>"
      ]
     },
     "metadata": {},
     "output_type": "display_data"
    }
   ],
   "source": [
    "plt.figure(figsize=(8,4))\n",
    "sns.scatterplot(x='primary_fuel',y='generation_gwh_2017',data=df)"
   ]
  },
  {
   "cell_type": "markdown",
   "id": "e0c724fc",
   "metadata": {},
   "source": [
    "Coal was widely used fuel in 2014 to 2017 and Nuclear,Gas and Hydro were averagely use while Solar,Wind Biomass and oil was very less used."
   ]
  },
  {
   "cell_type": "code",
   "execution_count": 294,
   "id": "32756070",
   "metadata": {},
   "outputs": [
    {
     "data": {
      "text/plain": [
       "<AxesSubplot:xlabel='primary_fuel', ylabel='latitude'>"
      ]
     },
     "execution_count": 294,
     "metadata": {},
     "output_type": "execute_result"
    },
    {
     "data": {
      "image/png": "[encoded data removed]",
      "text/plain": [
       "<Figure size 576x288 with 1 Axes>"
      ]
     },
     "metadata": {},
     "output_type": "display_data"
    }
   ],
   "source": [
    "plt.figure(figsize=(8,4))\n",
    "sns.scatterplot(x='primary_fuel',y='latitude',data=df)"
   ]
  },
  {
   "cell_type": "markdown",
   "id": "6a4d3b82",
   "metadata": {},
   "source": [
    "Coal is on max electrical generating capacity in megawatts"
   ]
  },
  {
   "cell_type": "code",
   "execution_count": 297,
   "id": "2830315d",
   "metadata": {},
   "outputs": [
    {
     "name": "stdout",
     "output_type": "stream",
     "text": [
      "<class 'pandas.core.frame.DataFrame'>\n",
      "RangeIndex: 907 entries, 0 to 906\n",
      "Data columns (total 13 columns):\n",
      " #   Column               Non-Null Count  Dtype  \n",
      "---  ------               --------------  -----  \n",
      " 0   capacity_mw          907 non-null    float64\n",
      " 1   latitude             907 non-null    float64\n",
      " 2   longitude            907 non-null    float64\n",
      " 3   primary_fuel         907 non-null    object \n",
      " 4   commissioning_year   907 non-null    float64\n",
      " 5   source               907 non-null    object \n",
      " 6   geolocation_source   907 non-null    object \n",
      " 7   generation_gwh_2014  907 non-null    float64\n",
      " 8   generation_gwh_2015  907 non-null    float64\n",
      " 9   generation_gwh_2016  907 non-null    float64\n",
      " 10  generation_gwh_2017  907 non-null    float64\n",
      " 11  generation_gwh_2018  907 non-null    float64\n",
      " 12  generation_gwh_2019  907 non-null    float64\n",
      "dtypes: float64(10), object(3)\n",
      "memory usage: 92.2+ KB\n"
     ]
    }
   ],
   "source": [
    "df.info()"
   ]
  },
  {
   "cell_type": "code",
   "execution_count": 298,
   "id": "526d3b59",
   "metadata": {},
   "outputs": [],
   "source": [
    "#Using LabelEncoder for convering categorical to numerical\n",
    "from sklearn.preprocessing import LabelEncoder"
   ]
  },
  {
   "cell_type": "code",
   "execution_count": 299,
   "id": "18301c67",
   "metadata": {},
   "outputs": [
    {
     "data": {
      "text/plain": [
       "array(['Solar', 'Coal', 'Wind', 'Gas', 'Hydro', 'Biomass', 'Oil',\n",
       "       'Nuclear'], dtype=object)"
      ]
     },
     "execution_count": 299,
     "metadata": {},
     "output_type": "execute_result"
    }
   ],
   "source": [
    "df['primary_fuel'].unique()"
   ]
  },
  {
   "cell_type": "code",
   "execution_count": 300,
   "id": "663dbfe7",
   "metadata": {},
   "outputs": [
    {
     "data": {
      "text/plain": [
       "array(['National Renewable Energy Laboratory', 'WRI', 'Industry About'],\n",
       "      dtype=object)"
      ]
     },
     "execution_count": 300,
     "metadata": {},
     "output_type": "execute_result"
    }
   ],
   "source": [
    "df['geolocation_source'].unique()"
   ]
  },
  {
   "cell_type": "code",
   "execution_count": 301,
   "id": "d84abea3",
   "metadata": {},
   "outputs": [],
   "source": [
    "encoder = LabelEncoder()\n",
    "df['primary_fuel'] = encoder.fit_transform(df['primary_fuel'])\n",
    "df['geolocation_source'] = encoder.fit_transform(df['geolocation_source'])\n",
    "df['source'] = encoder.fit_transform(df['source'])"
   ]
  },
  {
   "cell_type": "code",
   "execution_count": 302,
   "id": "c0dc74e2",
   "metadata": {},
   "outputs": [
    {
     "data": {
      "text/plain": [
       "array([1, 2, 0])"
      ]
     },
     "execution_count": 302,
     "metadata": {},
     "output_type": "execute_result"
    }
   ],
   "source": [
    "df['geolocation_source'].unique()"
   ]
  },
  {
   "cell_type": "code",
   "execution_count": 303,
   "id": "c0369846",
   "metadata": {
    "scrolled": true
   },
   "outputs": [
    {
     "name": "stdout",
     "output_type": "stream",
     "text": [
      "<class 'pandas.core.frame.DataFrame'>\n",
      "RangeIndex: 907 entries, 0 to 906\n",
      "Data columns (total 13 columns):\n",
      " #   Column               Non-Null Count  Dtype  \n",
      "---  ------               --------------  -----  \n",
      " 0   capacity_mw          907 non-null    float64\n",
      " 1   latitude             907 non-null    float64\n",
      " 2   longitude            907 non-null    float64\n",
      " 3   primary_fuel         907 non-null    int32  \n",
      " 4   commissioning_year   907 non-null    float64\n",
      " 5   source               907 non-null    int32  \n",
      " 6   geolocation_source   907 non-null    int32  \n",
      " 7   generation_gwh_2014  907 non-null    float64\n",
      " 8   generation_gwh_2015  907 non-null    float64\n",
      " 9   generation_gwh_2016  907 non-null    float64\n",
      " 10  generation_gwh_2017  907 non-null    float64\n",
      " 11  generation_gwh_2018  907 non-null    float64\n",
      " 12  generation_gwh_2019  907 non-null    float64\n",
      "dtypes: float64(10), int32(3)\n",
      "memory usage: 81.6 KB\n"
     ]
    }
   ],
   "source": [
    "df.info()"
   ]
  },
  {
   "cell_type": "code",
   "execution_count": 310,
   "id": "20c0b5be",
   "metadata": {},
   "outputs": [
    {
     "name": "stdout",
     "output_type": "stream",
     "text": [
      "(array([  4,   4,   4,  12,  12,  12,  12,  43,  43,  43,  43,  56,  60,\n",
      "        60,  74,  74,  74,  77,  92,  92, 158, 158, 163, 163, 185, 275,\n",
      "       275, 275, 283, 283, 292, 292, 292, 303, 303, 303, 304, 304, 309,\n",
      "       313, 328, 328, 328, 346, 358, 358, 358, 358, 360, 360, 360, 360,\n",
      "       365, 369, 369, 381, 381, 381, 381, 381, 382, 382, 382, 405, 408,\n",
      "       408, 440, 440, 446, 446, 446, 446, 462, 463, 463, 465, 514, 514,\n",
      "       514, 514, 514, 522, 522, 531, 552, 552, 552, 565, 565, 584, 605,\n",
      "       605, 605, 605, 611, 618, 618, 618, 630, 631, 631, 631, 631, 631,\n",
      "       639, 639, 639, 639, 662, 666, 675, 675, 675, 675, 683, 683, 705,\n",
      "       718, 718, 720, 723, 723, 765, 765, 765, 769, 769, 769, 796, 796,\n",
      "       818, 818, 818, 821, 821, 825, 825, 825, 825, 825, 843, 843, 843,\n",
      "       843, 852, 852, 852, 852, 864, 864, 877], dtype=int64), array([1, 2, 4, 0, 1, 2, 3, 0, 1, 2, 3, 2, 2, 3, 1, 2, 4, 1, 0, 1, 2, 4,\n",
      "       1, 2, 2, 0, 3, 4, 0, 1, 0, 1, 2, 0, 1, 3, 2, 3, 3, 1, 0, 1, 2, 0,\n",
      "       0, 1, 2, 3, 0, 1, 2, 3, 4, 3, 4, 0, 1, 2, 3, 4, 0, 1, 2, 4, 3, 4,\n",
      "       0, 3, 0, 1, 2, 3, 3, 1, 2, 0, 0, 1, 2, 3, 4, 2, 3, 1, 1, 2, 3, 0,\n",
      "       1, 4, 0, 1, 2, 3, 0, 1, 2, 3, 4, 0, 1, 2, 3, 4, 0, 1, 2, 3, 4, 0,\n",
      "       0, 1, 2, 3, 2, 3, 3, 0, 1, 3, 0, 4, 2, 3, 4, 0, 1, 2, 0, 1, 0, 1,\n",
      "       2, 0, 3, 0, 1, 2, 3, 4, 1, 2, 3, 4, 0, 1, 2, 3, 0, 3, 4],\n",
      "      dtype=int64))\n"
     ]
    }
   ],
   "source": [
    "#outliers removal\n",
    "#zscore\n",
    "from scipy.stats import zscore\n",
    "\n",
    "z=np.abs(zscore(df[['generation_gwh_2014','generation_gwh_2015','generation_gwh_2016','generation_gwh_2017','capacity_mw']]))\n",
    "print(np.where(z>3))"
   ]
  },
  {
   "cell_type": "code",
   "execution_count": 312,
   "id": "7fe2b604",
   "metadata": {},
   "outputs": [
    {
     "name": "stdout",
     "output_type": "stream",
     "text": [
      "Shape of the dataframe before removing outliers:  (819, 13)\n",
      "Shape of the dataframe after removing outliers:  (761, 13)\n",
      "Percentage of data loss post outlier removal:  7.0818070818070815\n"
     ]
    }
   ],
   "source": [
    "z = np.abs(zscore(df[['generation_gwh_2014','generation_gwh_2015','generation_gwh_2016','generation_gwh_2017','capacity_mw']]))\n",
    "threshold = 3\n",
    "df1 = df[(z<3).all(axis = 1)]\n",
    "\n",
    "print (\"Shape of the dataframe before removing outliers: \", df.shape)\n",
    "print (\"Shape of the dataframe after removing outliers: \", df1.shape)\n",
    "print (\"Percentage of data loss post outlier removal: \", (df.shape[0]-df1.shape[0])/df.shape[0]*100)\n",
    "\n",
    "df=df1.copy() # reassigning the changed dataframe name to our original dataframe name"
   ]
  },
  {
   "cell_type": "code",
   "execution_count": 313,
   "id": "e5e87081",
   "metadata": {},
   "outputs": [
    {
     "data": {
      "text/plain": [
       "(761, 13)"
      ]
     },
     "execution_count": 313,
     "metadata": {},
     "output_type": "execute_result"
    }
   ],
   "source": [
    "df.shape"
   ]
  },
  {
   "cell_type": "code",
   "execution_count": 315,
   "id": "07699fbc",
   "metadata": {},
   "outputs": [
    {
     "data": {
      "image/png": "[encoded data removed]",
      "text/plain": [
       "<Figure size 1296x1440 with 13 Axes>"
      ]
     },
     "metadata": {},
     "output_type": "display_data"
    }
   ],
   "source": [
    "#Skewness Handling\n",
    "plt.figure(figsize=(18,20))\n",
    "for i in enumerate(df):\n",
    "    plt.subplot(8,4,i[0]+1)\n",
    "    sns.distplot(df[i[1]],color='g')"
   ]
  },
  {
   "cell_type": "code",
   "execution_count": 316,
   "id": "be22f389",
   "metadata": {},
   "outputs": [
    {
     "data": {
      "text/plain": [
       "capacity_mw            2.176282\n",
       "latitude               1.868642\n",
       "longitude             -0.231704\n",
       "primary_fuel           0.218055\n",
       "commissioning_year    -0.007388\n",
       "source                 1.552575\n",
       "geolocation_source    -1.868642\n",
       "generation_gwh_2014    3.115938\n",
       "generation_gwh_2015    3.302054\n",
       "generation_gwh_2016    3.245009\n",
       "generation_gwh_2017    3.065321\n",
       "generation_gwh_2018    2.977348\n",
       "generation_gwh_2019    0.000000\n",
       "dtype: float64"
      ]
     },
     "execution_count": 316,
     "metadata": {},
     "output_type": "execute_result"
    }
   ],
   "source": [
    "df.skew()"
   ]
  },
  {
   "cell_type": "code",
   "execution_count": null,
   "id": "bc75346e",
   "metadata": {},
   "outputs": [],
   "source": [
    "#skewness more than+/- 0.5 will we treated\n",
    "\n",
    "#object columns will not be treated"
   ]
  },
  {
   "cell_type": "code",
   "execution_count": 318,
   "id": "f809004e",
   "metadata": {},
   "outputs": [],
   "source": [
    "#Removing Skewness\n",
    "from sklearn.preprocessing import power_transform\n",
    "\n",
    "df[['capacity_mw','generation_gwh_2014','generation_gwh_2015','generation_gwh_2016','generation_gwh_2017']]=power_transform(df[['capacity_mw','generation_gwh_2014','generation_gwh_2015','generation_gwh_2016','generation_gwh_2017']])"
   ]
  },
  {
   "cell_type": "code",
   "execution_count": 319,
   "id": "c5bf8fa6",
   "metadata": {},
   "outputs": [
    {
     "data": {
      "text/plain": [
       "capacity_mw            0.006813\n",
       "latitude               1.868642\n",
       "longitude             -0.231704\n",
       "primary_fuel           0.218055\n",
       "commissioning_year    -0.007388\n",
       "source                 1.552575\n",
       "geolocation_source    -1.868642\n",
       "generation_gwh_2014    0.022774\n",
       "generation_gwh_2015    0.032189\n",
       "generation_gwh_2016    0.042482\n",
       "generation_gwh_2017    0.038975\n",
       "generation_gwh_2018    2.977348\n",
       "generation_gwh_2019    0.000000\n",
       "dtype: float64"
      ]
     },
     "execution_count": 319,
     "metadata": {},
     "output_type": "execute_result"
    }
   ],
   "source": [
    "df.skew()"
   ]
  },
  {
   "cell_type": "code",
   "execution_count": 320,
   "id": "6da92535",
   "metadata": {},
   "outputs": [
    {
     "data": {
      "text/plain": [
       "capacity_mw            0\n",
       "latitude               0\n",
       "longitude              0\n",
       "primary_fuel           0\n",
       "commissioning_year     0\n",
       "source                 0\n",
       "geolocation_source     0\n",
       "generation_gwh_2014    0\n",
       "generation_gwh_2015    0\n",
       "generation_gwh_2016    0\n",
       "generation_gwh_2017    0\n",
       "generation_gwh_2018    0\n",
       "generation_gwh_2019    0\n",
       "dtype: int64"
      ]
     },
     "execution_count": 320,
     "metadata": {},
     "output_type": "execute_result"
    }
   ],
   "source": [
    "pd.DataFrame(df).isnull().sum()"
   ]
  },
  {
   "cell_type": "code",
   "execution_count": null,
   "id": "f2d1b8c8",
   "metadata": {},
   "outputs": [],
   "source": [
    "#First taking 'capacity_mw' as target creating Regression model\n",
    "#Dividing data into X and Y"
   ]
  },
  {
   "cell_type": "code",
   "execution_count": 321,
   "id": "7e061d04",
   "metadata": {},
   "outputs": [],
   "source": [
    "x=df.drop(['capacity_mw'],axis=1)\n",
    "y=df['capacity_mw']"
   ]
  },
  {
   "cell_type": "code",
   "execution_count": 322,
   "id": "fe3acc8b",
   "metadata": {},
   "outputs": [
    {
     "data": {
      "text/plain": [
       "(761, 12)"
      ]
     },
     "execution_count": 322,
     "metadata": {},
     "output_type": "execute_result"
    }
   ],
   "source": [
    "x.shape"
   ]
  },
  {
   "cell_type": "code",
   "execution_count": 323,
   "id": "e1fc0d1c",
   "metadata": {},
   "outputs": [
    {
     "data": {
      "text/plain": [
       "(761,)"
      ]
     },
     "execution_count": 323,
     "metadata": {},
     "output_type": "execute_result"
    }
   ],
   "source": [
    "y.shape"
   ]
  },
  {
   "cell_type": "code",
   "execution_count": 325,
   "id": "1602e77b",
   "metadata": {},
   "outputs": [],
   "source": [
    "#scaling X values\n",
    "from sklearn.preprocessing import MinMaxScaler\n",
    "\n",
    "sc=MinMaxScaler()\n",
    "x=sc.fit_transform(x)"
   ]
  },
  {
   "cell_type": "code",
   "execution_count": 326,
   "id": "42bd45e4",
   "metadata": {},
   "outputs": [
    {
     "data": {
      "text/plain": [
       "0     0\n",
       "1     0\n",
       "2     0\n",
       "3     0\n",
       "4     0\n",
       "5     0\n",
       "6     0\n",
       "7     0\n",
       "8     0\n",
       "9     0\n",
       "10    0\n",
       "11    0\n",
       "dtype: int64"
      ]
     },
     "execution_count": 326,
     "metadata": {},
     "output_type": "execute_result"
    }
   ],
   "source": [
    "pd.DataFrame(x).isnull().sum()"
   ]
  },
  {
   "cell_type": "code",
   "execution_count": 327,
   "id": "19dae11e",
   "metadata": {},
   "outputs": [
    {
     "data": {
      "text/html": [
       "<div>\n",
       "<style scoped>\n",
       "    .dataframe tbody tr th:only-of-type {\n",
       "        vertical-align: middle;\n",
       "    }\n",
       "\n",
       "    .dataframe tbody tr th {\n",
       "        vertical-align: top;\n",
       "    }\n",
       "\n",
       "    .dataframe thead th {\n",
       "        text-align: right;\n",
       "    }\n",
       "</style>\n",
       "<table border=\"1\" class=\"dataframe\">\n",
       "  <thead>\n",
       "    <tr style=\"text-align: right;\">\n",
       "      <th></th>\n",
       "      <th>0</th>\n",
       "      <th>1</th>\n",
       "      <th>2</th>\n",
       "      <th>3</th>\n",
       "      <th>4</th>\n",
       "      <th>5</th>\n",
       "      <th>6</th>\n",
       "      <th>7</th>\n",
       "      <th>8</th>\n",
       "      <th>9</th>\n",
       "      <th>10</th>\n",
       "      <th>11</th>\n",
       "    </tr>\n",
       "  </thead>\n",
       "  <tbody>\n",
       "    <tr>\n",
       "      <th>count</th>\n",
       "      <td>761.000000</td>\n",
       "      <td>761.000000</td>\n",
       "      <td>761.000000</td>\n",
       "      <td>761.000000</td>\n",
       "      <td>761.000000</td>\n",
       "      <td>761.000000</td>\n",
       "      <td>761.000000</td>\n",
       "      <td>761.000000</td>\n",
       "      <td>761.000000</td>\n",
       "      <td>761.000000</td>\n",
       "      <td>761.000000</td>\n",
       "      <td>761.0</td>\n",
       "    </tr>\n",
       "    <tr>\n",
       "      <th>mean</th>\n",
       "      <td>0.298749</td>\n",
       "      <td>0.463335</td>\n",
       "      <td>0.509480</td>\n",
       "      <td>0.495888</td>\n",
       "      <td>0.252556</td>\n",
       "      <td>0.840999</td>\n",
       "      <td>0.550965</td>\n",
       "      <td>0.535297</td>\n",
       "      <td>0.524928</td>\n",
       "      <td>0.522492</td>\n",
       "      <td>0.090335</td>\n",
       "      <td>0.0</td>\n",
       "    </tr>\n",
       "    <tr>\n",
       "      <th>std</th>\n",
       "      <td>0.215213</td>\n",
       "      <td>0.176622</td>\n",
       "      <td>0.328183</td>\n",
       "      <td>0.494305</td>\n",
       "      <td>0.250603</td>\n",
       "      <td>0.364115</td>\n",
       "      <td>0.177780</td>\n",
       "      <td>0.179342</td>\n",
       "      <td>0.182668</td>\n",
       "      <td>0.187689</td>\n",
       "      <td>0.173961</td>\n",
       "      <td>0.0</td>\n",
       "    </tr>\n",
       "    <tr>\n",
       "      <th>min</th>\n",
       "      <td>0.000000</td>\n",
       "      <td>0.000000</td>\n",
       "      <td>0.000000</td>\n",
       "      <td>0.000000</td>\n",
       "      <td>0.000000</td>\n",
       "      <td>0.000000</td>\n",
       "      <td>0.000000</td>\n",
       "      <td>0.000000</td>\n",
       "      <td>0.000000</td>\n",
       "      <td>0.000000</td>\n",
       "      <td>0.000000</td>\n",
       "      <td>0.0</td>\n",
       "    </tr>\n",
       "    <tr>\n",
       "      <th>25%</th>\n",
       "      <td>0.171406</td>\n",
       "      <td>0.390792</td>\n",
       "      <td>0.285714</td>\n",
       "      <td>0.000000</td>\n",
       "      <td>0.115789</td>\n",
       "      <td>1.000000</td>\n",
       "      <td>0.486878</td>\n",
       "      <td>0.476286</td>\n",
       "      <td>0.464581</td>\n",
       "      <td>0.460636</td>\n",
       "      <td>0.017797</td>\n",
       "      <td>0.0</td>\n",
       "    </tr>\n",
       "    <tr>\n",
       "      <th>50%</th>\n",
       "      <td>0.276610</td>\n",
       "      <td>0.465599</td>\n",
       "      <td>0.428571</td>\n",
       "      <td>0.958648</td>\n",
       "      <td>0.115789</td>\n",
       "      <td>1.000000</td>\n",
       "      <td>0.486878</td>\n",
       "      <td>0.476286</td>\n",
       "      <td>0.464581</td>\n",
       "      <td>0.460636</td>\n",
       "      <td>0.017797</td>\n",
       "      <td>0.0</td>\n",
       "    </tr>\n",
       "    <tr>\n",
       "      <th>75%</th>\n",
       "      <td>0.370719</td>\n",
       "      <td>0.530927</td>\n",
       "      <td>0.857143</td>\n",
       "      <td>0.989790</td>\n",
       "      <td>0.336842</td>\n",
       "      <td>1.000000</td>\n",
       "      <td>0.613668</td>\n",
       "      <td>0.596689</td>\n",
       "      <td>0.603895</td>\n",
       "      <td>0.596045</td>\n",
       "      <td>0.064147</td>\n",
       "      <td>0.0</td>\n",
       "    </tr>\n",
       "    <tr>\n",
       "      <th>max</th>\n",
       "      <td>1.000000</td>\n",
       "      <td>1.000000</td>\n",
       "      <td>1.000000</td>\n",
       "      <td>1.000000</td>\n",
       "      <td>1.000000</td>\n",
       "      <td>1.000000</td>\n",
       "      <td>1.000000</td>\n",
       "      <td>1.000000</td>\n",
       "      <td>1.000000</td>\n",
       "      <td>1.000000</td>\n",
       "      <td>1.000000</td>\n",
       "      <td>0.0</td>\n",
       "    </tr>\n",
       "  </tbody>\n",
       "</table>\n",
       "</div>"
      ],
      "text/plain": [
       "               0           1           2           3           4           5   \\\n",
       "count  761.000000  761.000000  761.000000  761.000000  761.000000  761.000000   \n",
       "mean     0.298749    0.463335    0.509480    0.495888    0.252556    0.840999   \n",
       "std      0.215213    0.176622    0.328183    0.494305    0.250603    0.364115   \n",
       "min      0.000000    0.000000    0.000000    0.000000    0.000000    0.000000   \n",
       "25%      0.171406    0.390792    0.285714    0.000000    0.115789    1.000000   \n",
       "50%      0.276610    0.465599    0.428571    0.958648    0.115789    1.000000   \n",
       "75%      0.370719    0.530927    0.857143    0.989790    0.336842    1.000000   \n",
       "max      1.000000    1.000000    1.000000    1.000000    1.000000    1.000000   \n",
       "\n",
       "               6           7           8           9           10     11  \n",
       "count  761.000000  761.000000  761.000000  761.000000  761.000000  761.0  \n",
       "mean     0.550965    0.535297    0.524928    0.522492    0.090335    0.0  \n",
       "std      0.177780    0.179342    0.182668    0.187689    0.173961    0.0  \n",
       "min      0.000000    0.000000    0.000000    0.000000    0.000000    0.0  \n",
       "25%      0.486878    0.476286    0.464581    0.460636    0.017797    0.0  \n",
       "50%      0.486878    0.476286    0.464581    0.460636    0.017797    0.0  \n",
       "75%      0.613668    0.596689    0.603895    0.596045    0.064147    0.0  \n",
       "max      1.000000    1.000000    1.000000    1.000000    1.000000    0.0  "
      ]
     },
     "execution_count": 327,
     "metadata": {},
     "output_type": "execute_result"
    }
   ],
   "source": [
    "pd.DataFrame(x).describe()"
   ]
  },
  {
   "cell_type": "code",
   "execution_count": 330,
   "id": "0de91717",
   "metadata": {},
   "outputs": [],
   "source": [
    "#MODEL BUILDING:\n",
    "from sklearn.metrics import mean_squared_error,mean_absolute_error\n",
    "from sklearn.metrics import r2_score\n",
    "from sklearn.model_selection import train_test_split\n",
    "from sklearn.model_selection import cross_val_score"
   ]
  },
  {
   "cell_type": "code",
   "execution_count": 332,
   "id": "dce833f5",
   "metadata": {},
   "outputs": [
    {
     "name": "stdout",
     "output_type": "stream",
     "text": [
      "At random state 0, The training accuracy is: 0.5431627897580691\n",
      "At random state 0, The test accuracy is: 0.5158278971688415\n",
      "\n",
      "\n",
      "At random state 1, The training accuracy is: 0.5316137269865469\n",
      "At random state 1, The test accuracy is: 0.5719938676767973\n",
      "\n",
      "\n",
      "At random state 2, The training accuracy is: 0.5452432521844351\n",
      "At random state 2, The test accuracy is: 0.5208077106914486\n",
      "\n",
      "\n",
      "At random state 3, The training accuracy is: 0.520596869006229\n",
      "At random state 3, The test accuracy is: 0.6140074483244337\n",
      "\n",
      "\n",
      "At random state 4, The training accuracy is: 0.5591132255128829\n",
      "At random state 4, The test accuracy is: 0.4599016452625484\n",
      "\n",
      "\n",
      "At random state 5, The training accuracy is: 0.5410863795226479\n",
      "At random state 5, The test accuracy is: 0.5309797047832325\n",
      "\n",
      "\n",
      "At random state 6, The training accuracy is: 0.5378812161113078\n",
      "At random state 6, The test accuracy is: 0.5483578528944069\n",
      "\n",
      "\n",
      "At random state 7, The training accuracy is: 0.5627635412558232\n",
      "At random state 7, The test accuracy is: 0.44310891982103573\n",
      "\n",
      "\n",
      "At random state 8, The training accuracy is: 0.547371765128897\n",
      "At random state 8, The test accuracy is: 0.5133561924660077\n",
      "\n",
      "\n",
      "At random state 9, The training accuracy is: 0.5392601870114933\n",
      "At random state 9, The test accuracy is: 0.5491737216244437\n",
      "\n",
      "\n",
      "At random state 10, The training accuracy is: 0.5368384514686118\n",
      "At random state 10, The test accuracy is: 0.5437656222836253\n",
      "\n",
      "\n",
      "At random state 11, The training accuracy is: 0.5615397426878399\n",
      "At random state 11, The test accuracy is: 0.4425528931924705\n",
      "\n",
      "\n",
      "At random state 12, The training accuracy is: 0.5492142180274484\n",
      "At random state 12, The test accuracy is: 0.4917248745170628\n",
      "\n",
      "\n",
      "At random state 13, The training accuracy is: 0.5508782504681542\n",
      "At random state 13, The test accuracy is: 0.505089916098542\n",
      "\n",
      "\n",
      "At random state 14, The training accuracy is: 0.5608171507383128\n",
      "At random state 14, The test accuracy is: 0.4538666585620432\n",
      "\n",
      "\n",
      "At random state 15, The training accuracy is: 0.5307814030545572\n",
      "At random state 15, The test accuracy is: 0.5737143868168364\n",
      "\n",
      "\n",
      "At random state 16, The training accuracy is: 0.5414890340582607\n",
      "At random state 16, The test accuracy is: 0.5322827109424606\n",
      "\n",
      "\n",
      "At random state 17, The training accuracy is: 0.5274944199224059\n",
      "At random state 17, The test accuracy is: 0.5805947481384024\n",
      "\n",
      "\n",
      "At random state 18, The training accuracy is: 0.5522580613747453\n",
      "At random state 18, The test accuracy is: 0.49208359554044323\n",
      "\n",
      "\n",
      "At random state 19, The training accuracy is: 0.5607749460940954\n",
      "At random state 19, The test accuracy is: 0.4303264007013178\n",
      "\n",
      "\n",
      "At random state 20, The training accuracy is: 0.5458844886271683\n",
      "At random state 20, The test accuracy is: 0.5174142624872071\n",
      "\n",
      "\n",
      "At random state 21, The training accuracy is: 0.5385624625065646\n",
      "At random state 21, The test accuracy is: 0.5487388939938058\n",
      "\n",
      "\n",
      "At random state 22, The training accuracy is: 0.5470925951080733\n",
      "At random state 22, The test accuracy is: 0.5042084922753114\n",
      "\n",
      "\n",
      "At random state 23, The training accuracy is: 0.5368782743202847\n",
      "At random state 23, The test accuracy is: 0.5611880616337701\n",
      "\n",
      "\n",
      "At random state 24, The training accuracy is: 0.5509469441923112\n",
      "At random state 24, The test accuracy is: 0.47925348476462537\n",
      "\n",
      "\n",
      "At random state 25, The training accuracy is: 0.5473721229487024\n",
      "At random state 25, The test accuracy is: 0.5143193715607932\n",
      "\n",
      "\n",
      "At random state 26, The training accuracy is: 0.535069242162991\n",
      "At random state 26, The test accuracy is: 0.5725835460833306\n",
      "\n",
      "\n",
      "At random state 27, The training accuracy is: 0.5454563409843913\n",
      "At random state 27, The test accuracy is: 0.528572636592617\n",
      "\n",
      "\n",
      "At random state 28, The training accuracy is: 0.5704884010392334\n",
      "At random state 28, The test accuracy is: 0.3663784111397752\n",
      "\n",
      "\n",
      "At random state 29, The training accuracy is: 0.5538140635386986\n",
      "At random state 29, The test accuracy is: 0.47453188863580553\n",
      "\n",
      "\n",
      "At random state 30, The training accuracy is: 0.5424274654662733\n",
      "At random state 30, The test accuracy is: 0.5330478704598256\n",
      "\n",
      "\n",
      "At random state 31, The training accuracy is: 0.5548728022351366\n",
      "At random state 31, The test accuracy is: 0.47727500779736887\n",
      "\n",
      "\n",
      "At random state 32, The training accuracy is: 0.5414553429955216\n",
      "At random state 32, The test accuracy is: 0.5348604791196478\n",
      "\n",
      "\n",
      "At random state 33, The training accuracy is: 0.5436716779539442\n",
      "At random state 33, The test accuracy is: 0.5284787360591165\n",
      "\n",
      "\n",
      "At random state 34, The training accuracy is: 0.5511669951332855\n",
      "At random state 34, The test accuracy is: 0.5069712262984893\n",
      "\n",
      "\n",
      "At random state 35, The training accuracy is: 0.5484686544022266\n",
      "At random state 35, The test accuracy is: 0.5095144659812538\n",
      "\n",
      "\n",
      "At random state 36, The training accuracy is: 0.53828944415508\n",
      "At random state 36, The test accuracy is: 0.5461835592301472\n",
      "\n",
      "\n",
      "At random state 37, The training accuracy is: 0.543235702594189\n",
      "At random state 37, The test accuracy is: 0.5319598805513632\n",
      "\n",
      "\n",
      "At random state 38, The training accuracy is: 0.5559440383245964\n",
      "At random state 38, The test accuracy is: 0.46023935044178554\n",
      "\n",
      "\n",
      "At random state 39, The training accuracy is: 0.5396329062188814\n",
      "At random state 39, The test accuracy is: 0.5449199089306833\n",
      "\n",
      "\n",
      "At random state 40, The training accuracy is: 0.5501967909097432\n",
      "At random state 40, The test accuracy is: 0.5041606782723622\n",
      "\n",
      "\n",
      "At random state 41, The training accuracy is: 0.5476813346359275\n",
      "At random state 41, The test accuracy is: 0.5040058704703461\n",
      "\n",
      "\n",
      "At random state 42, The training accuracy is: 0.5504664617565729\n",
      "At random state 42, The test accuracy is: 0.5059175462237582\n",
      "\n",
      "\n",
      "At random state 43, The training accuracy is: 0.5435054266369042\n",
      "At random state 43, The test accuracy is: 0.5338786635022091\n",
      "\n",
      "\n",
      "At random state 44, The training accuracy is: 0.5615756474627382\n",
      "At random state 44, The test accuracy is: 0.4443350651008324\n",
      "\n",
      "\n",
      "At random state 45, The training accuracy is: 0.5534006118233319\n",
      "At random state 45, The test accuracy is: 0.4815784260854368\n",
      "\n",
      "\n",
      "At random state 46, The training accuracy is: 0.5428246855886254\n",
      "At random state 46, The test accuracy is: 0.5352359105375802\n",
      "\n",
      "\n",
      "At random state 47, The training accuracy is: 0.5471255498868417\n",
      "At random state 47, The test accuracy is: 0.5120038463837422\n",
      "\n",
      "\n",
      "At random state 48, The training accuracy is: 0.5307290755459241\n",
      "At random state 48, The test accuracy is: 0.5558474702735647\n",
      "\n",
      "\n",
      "At random state 49, The training accuracy is: 0.5549881754750066\n",
      "At random state 49, The test accuracy is: 0.4866136771897911\n",
      "\n",
      "\n",
      "At random state 50, The training accuracy is: 0.5447892638185419\n",
      "At random state 50, The test accuracy is: 0.5260293691366152\n",
      "\n",
      "\n",
      "At random state 51, The training accuracy is: 0.5431264986849083\n",
      "At random state 51, The test accuracy is: 0.5307982659976831\n",
      "\n",
      "\n",
      "At random state 52, The training accuracy is: 0.5740038120549814\n",
      "At random state 52, The test accuracy is: 0.380199680151026\n",
      "\n",
      "\n",
      "At random state 53, The training accuracy is: 0.5672303391056182\n",
      "At random state 53, The test accuracy is: 0.41229763568132594\n",
      "\n",
      "\n",
      "At random state 54, The training accuracy is: 0.5787310559872842\n",
      "At random state 54, The test accuracy is: 0.39061028915839047\n",
      "\n",
      "\n",
      "At random state 55, The training accuracy is: 0.5450359525361765\n",
      "At random state 55, The test accuracy is: 0.5212005847079182\n",
      "\n",
      "\n",
      "At random state 56, The training accuracy is: 0.5392043375729105\n",
      "At random state 56, The test accuracy is: 0.5474234345549117\n",
      "\n",
      "\n",
      "At random state 57, The training accuracy is: 0.5447993481392754\n",
      "At random state 57, The test accuracy is: 0.522928389665514\n",
      "\n",
      "\n",
      "At random state 58, The training accuracy is: 0.5341439959167299\n",
      "At random state 58, The test accuracy is: 0.5401308002093896\n",
      "\n",
      "\n",
      "At random state 59, The training accuracy is: 0.5452953668403818\n",
      "At random state 59, The test accuracy is: 0.5083144712085835\n",
      "\n",
      "\n",
      "At random state 60, The training accuracy is: 0.5472472799570621\n",
      "At random state 60, The test accuracy is: 0.5017877422529633\n",
      "\n",
      "\n",
      "At random state 61, The training accuracy is: 0.5296174654971086\n",
      "At random state 61, The test accuracy is: 0.5871448695057904\n",
      "\n",
      "\n",
      "At random state 62, The training accuracy is: 0.5455802594617049\n",
      "At random state 62, The test accuracy is: 0.515042783699478\n",
      "\n",
      "\n",
      "At random state 63, The training accuracy is: 0.5472410449193006\n",
      "At random state 63, The test accuracy is: 0.505833242219162\n",
      "\n",
      "\n",
      "At random state 64, The training accuracy is: 0.5627625564502174\n",
      "At random state 64, The test accuracy is: 0.43445991418295127\n",
      "\n",
      "\n",
      "At random state 65, The training accuracy is: 0.5580649386857099\n",
      "At random state 65, The test accuracy is: 0.44900021680817914\n",
      "\n",
      "\n",
      "At random state 66, The training accuracy is: 0.5189258350545319\n",
      "At random state 66, The test accuracy is: 0.6198222781670822\n",
      "\n",
      "\n",
      "At random state 67, The training accuracy is: 0.5516811273919087\n",
      "At random state 67, The test accuracy is: 0.5006286410067602\n",
      "\n",
      "\n",
      "At random state 68, The training accuracy is: 0.5442589248173209\n",
      "At random state 68, The test accuracy is: 0.5249666998935936\n",
      "\n",
      "\n",
      "At random state 69, The training accuracy is: 0.5410985798837153\n",
      "At random state 69, The test accuracy is: 0.5374735834617532\n",
      "\n",
      "\n",
      "At random state 70, The training accuracy is: 0.5428118180899664\n",
      "At random state 70, The test accuracy is: 0.5156661888541121\n",
      "\n",
      "\n",
      "At random state 71, The training accuracy is: 0.5390508356965295\n",
      "At random state 71, The test accuracy is: 0.5356718652801009\n",
      "\n",
      "\n",
      "At random state 72, The training accuracy is: 0.5385141281593631\n",
      "At random state 72, The test accuracy is: 0.5475515933770602\n",
      "\n",
      "\n",
      "At random state 73, The training accuracy is: 0.5389327126138796\n",
      "At random state 73, The test accuracy is: 0.5480228439479238\n",
      "\n",
      "\n",
      "At random state 74, The training accuracy is: 0.5349319040623756\n",
      "At random state 74, The test accuracy is: 0.5520178982867214\n",
      "\n",
      "\n",
      "At random state 75, The training accuracy is: 0.5464718823040544\n",
      "At random state 75, The test accuracy is: 0.5165245252864068\n",
      "\n",
      "\n",
      "At random state 76, The training accuracy is: 0.5643102301317815\n",
      "At random state 76, The test accuracy is: 0.43879816036516006\n",
      "\n",
      "\n",
      "At random state 77, The training accuracy is: 0.5482727606714509\n",
      "At random state 77, The test accuracy is: 0.508933690468149\n",
      "\n",
      "\n",
      "At random state 78, The training accuracy is: 0.5673893783875772\n",
      "At random state 78, The test accuracy is: 0.4193049758072398\n",
      "\n",
      "\n",
      "At random state 79, The training accuracy is: 0.5340913349175047\n",
      "At random state 79, The test accuracy is: 0.566223877224674\n",
      "\n",
      "\n",
      "At random state 80, The training accuracy is: 0.5459238700518738\n",
      "At random state 80, The test accuracy is: 0.5171867639806533\n",
      "\n",
      "\n",
      "At random state 81, The training accuracy is: 0.5458463088907914\n",
      "At random state 81, The test accuracy is: 0.4856889801898644\n",
      "\n",
      "\n",
      "At random state 82, The training accuracy is: 0.5441719315967455\n",
      "At random state 82, The test accuracy is: 0.5253529423225994\n",
      "\n",
      "\n",
      "At random state 83, The training accuracy is: 0.5276239700946921\n",
      "At random state 83, The test accuracy is: 0.587582544058378\n",
      "\n",
      "\n",
      "At random state 84, The training accuracy is: 0.5346919940063103\n",
      "At random state 84, The test accuracy is: 0.5555292232935023\n",
      "\n",
      "\n",
      "At random state 85, The training accuracy is: 0.5249640637654096\n",
      "At random state 85, The test accuracy is: 0.5930832652428685\n",
      "\n",
      "\n",
      "At random state 86, The training accuracy is: 0.5339449081805653\n",
      "At random state 86, The test accuracy is: 0.5713591999518085\n",
      "\n",
      "\n",
      "At random state 87, The training accuracy is: 0.5655115617017828\n",
      "At random state 87, The test accuracy is: 0.42048780668989283\n",
      "\n",
      "\n",
      "At random state 88, The training accuracy is: 0.522349605512368\n",
      "At random state 88, The test accuracy is: 0.5869785778224508\n",
      "\n",
      "\n",
      "At random state 89, The training accuracy is: 0.5456159690300304\n",
      "At random state 89, The test accuracy is: 0.5221426559085942\n",
      "\n",
      "\n",
      "At random state 90, The training accuracy is: 0.5537214468218995\n",
      "At random state 90, The test accuracy is: 0.4827739610730952\n",
      "\n",
      "\n",
      "At random state 91, The training accuracy is: 0.5327381209570197\n",
      "At random state 91, The test accuracy is: 0.5750362172294065\n",
      "\n",
      "\n",
      "At random state 92, The training accuracy is: 0.5439397890201196\n",
      "At random state 92, The test accuracy is: 0.5287666021385786\n",
      "\n",
      "\n",
      "At random state 93, The training accuracy is: 0.5539909678552579\n",
      "At random state 93, The test accuracy is: 0.48567033134892945\n",
      "\n",
      "\n",
      "At random state 94, The training accuracy is: 0.5423946224714954\n",
      "At random state 94, The test accuracy is: 0.5254417711343481\n",
      "\n",
      "\n",
      "At random state 95, The training accuracy is: 0.5379645160171943\n",
      "At random state 95, The test accuracy is: 0.5311757099306245\n",
      "\n",
      "\n",
      "At random state 96, The training accuracy is: 0.5275345040008116\n",
      "At random state 96, The test accuracy is: 0.5841282823876093\n",
      "\n",
      "\n",
      "At random state 97, The training accuracy is: 0.5418588442584513\n",
      "At random state 97, The test accuracy is: 0.5317997664846734\n",
      "\n",
      "\n",
      "At random state 98, The training accuracy is: 0.5452135061121679\n",
      "At random state 98, The test accuracy is: 0.5230732652412371\n",
      "\n",
      "\n",
      "At random state 99, The training accuracy is: 0.5495842803031581\n",
      "At random state 99, The test accuracy is: 0.5069127543056254\n",
      "\n",
      "\n"
     ]
    }
   ],
   "source": [
    "#CHECKING THE BEST RANDOM STATE FOR DATA SPLIT\n",
    "\n",
    "from sklearn.linear_model import LinearRegression\n",
    "\n",
    "\n",
    "LR=LinearRegression()\n",
    "\n",
    "for i in range(0,100):\n",
    "    x_train,x_test,y_train,y_test=train_test_split(x,y,test_size=0.2,random_state=i)\n",
    "    LR.fit(x_train,y_train)\n",
    "    LR_predict_train=LR.predict(x_train)\n",
    "    LR_predict_test=LR.predict(x_test)\n",
    "    print(f'At random state {i}, The training accuracy is: {r2_score(y_train,LR_predict_train)}')\n",
    "    print(f'At random state {i}, The test accuracy is: {r2_score(y_test,LR_predict_test)}')\n",
    "    print('\\n')"
   ]
  },
  {
   "cell_type": "markdown",
   "id": "4e5fa405",
   "metadata": {},
   "source": [
    "Random state=95 giving highest accuracy, choosing that as random state\n"
   ]
  },
  {
   "cell_type": "code",
   "execution_count": 334,
   "id": "4839657b",
   "metadata": {},
   "outputs": [],
   "source": [
    "#SPLITTING THE DATA WITH RANDOM STATE =95"
   ]
  },
  {
   "cell_type": "code",
   "execution_count": 336,
   "id": "eb2d6669",
   "metadata": {},
   "outputs": [],
   "source": [
    "#splitting the data into 73% training and 27% testing\n",
    "x_train,x_test,y_train,y_test=train_test_split(x,y,test_size=0.27,random_state=95)"
   ]
  },
  {
   "cell_type": "code",
   "execution_count": 337,
   "id": "3dec0d5a",
   "metadata": {},
   "outputs": [
    {
     "data": {
      "text/plain": [
       "(555, 12)"
      ]
     },
     "execution_count": 337,
     "metadata": {},
     "output_type": "execute_result"
    }
   ],
   "source": [
    "x_train.shape"
   ]
  },
  {
   "cell_type": "code",
   "execution_count": 338,
   "id": "4e4d23b5",
   "metadata": {},
   "outputs": [
    {
     "data": {
      "text/plain": [
       "(206, 12)"
      ]
     },
     "execution_count": 338,
     "metadata": {},
     "output_type": "execute_result"
    }
   ],
   "source": [
    "x_test.shape"
   ]
  },
  {
   "cell_type": "code",
   "execution_count": 339,
   "id": "38ac3e34",
   "metadata": {},
   "outputs": [
    {
     "data": {
      "text/plain": [
       "(555,)"
      ]
     },
     "execution_count": 339,
     "metadata": {},
     "output_type": "execute_result"
    }
   ],
   "source": [
    "y_train.shape"
   ]
  },
  {
   "cell_type": "code",
   "execution_count": 340,
   "id": "bc013d8a",
   "metadata": {},
   "outputs": [
    {
     "data": {
      "text/plain": [
       "(206,)"
      ]
     },
     "execution_count": 340,
     "metadata": {},
     "output_type": "execute_result"
    }
   ],
   "source": [
    "y_test.shape"
   ]
  },
  {
   "cell_type": "code",
   "execution_count": 341,
   "id": "d5cc692c",
   "metadata": {},
   "outputs": [
    {
     "name": "stdout",
     "output_type": "stream",
     "text": [
      "0.5361125434136433\n"
     ]
    }
   ],
   "source": [
    "#Linear Regression:\n",
    "from sklearn.linear_model import LinearRegression\n",
    "\n",
    "LR=LinearRegression()\n",
    "LR.fit(x_train,y_train)\n",
    "print(LR.score(x_train,y_train))\n",
    "LR_predict=LR.predict(x_test)"
   ]
  },
  {
   "cell_type": "code",
   "execution_count": 342,
   "id": "25c0f41c",
   "metadata": {},
   "outputs": [
    {
     "name": "stdout",
     "output_type": "stream",
     "text": [
      "MSE: 0.4619308201289999\n",
      "MAE: 0.5152022130524265\n",
      "r2_score: 0.15076485277527374\n"
     ]
    }
   ],
   "source": [
    "print('MSE:',mean_squared_error(LR_predict,y_test))\n",
    "print('MAE:',mean_absolute_error(LR_predict,y_test))\n",
    "print('r2_score:',r2_score(LR_predict,y_test))"
   ]
  },
  {
   "cell_type": "code",
   "execution_count": 344,
   "id": "f614a414",
   "metadata": {},
   "outputs": [
    {
     "name": "stdout",
     "output_type": "stream",
     "text": [
      "0.534986621325779\n"
     ]
    }
   ],
   "source": [
    "#Ridge:\n",
    "\n",
    "from sklearn.linear_model import Ridge\n",
    "R=Ridge()\n",
    "R.fit(x_train,y_train)\n",
    "print(R.score(x_train,y_train))\n",
    "R_predict=R.predict(x_test)"
   ]
  },
  {
   "cell_type": "code",
   "execution_count": 345,
   "id": "553efb48",
   "metadata": {},
   "outputs": [
    {
     "name": "stdout",
     "output_type": "stream",
     "text": [
      "MSE: 0.4667023554577033\n",
      "MAE: 0.5192117989582347\n",
      "r2_score: 0.1042122067172454\n"
     ]
    }
   ],
   "source": [
    "print('MSE:',mean_squared_error(R_predict,y_test))\n",
    "print('MAE:',mean_absolute_error(R_predict,y_test))\n",
    "print('r2_score:',r2_score(R_predict,y_test))"
   ]
  },
  {
   "cell_type": "code",
   "execution_count": 347,
   "id": "b5d5c3af",
   "metadata": {},
   "outputs": [
    {
     "name": "stdout",
     "output_type": "stream",
     "text": [
      "0.5234186719949887\n"
     ]
    }
   ],
   "source": [
    "#SVR\n",
    "#SVR(kernel = 'Linear')\n",
    "from sklearn.svm import SVR\n",
    "\n",
    "svr=SVR(kernel='linear')\n",
    "svr.fit(x_train,y_train)\n",
    "print(svr.score(x_train,y_train))\n",
    "svr_predict=svr.predict(x_test)"
   ]
  },
  {
   "cell_type": "code",
   "execution_count": 348,
   "id": "cb6167b1",
   "metadata": {},
   "outputs": [
    {
     "name": "stdout",
     "output_type": "stream",
     "text": [
      "MSE: 0.49100805603180286\n",
      "MAE: 0.521227848856246\n",
      "r2_score: 0.12722955729148655\n"
     ]
    }
   ],
   "source": [
    "print('MSE:',mean_squared_error(svr_predict,y_test))\n",
    "print('MAE:',mean_absolute_error(svr_predict,y_test))\n",
    "print('r2_score:',r2_score(svr_predict,y_test))\n"
   ]
  },
  {
   "cell_type": "code",
   "execution_count": 350,
   "id": "0642ce13",
   "metadata": {},
   "outputs": [
    {
     "name": "stdout",
     "output_type": "stream",
     "text": [
      "0.6844015574818609\n"
     ]
    }
   ],
   "source": [
    "#SVR(kernel='Poly')\n",
    "svr_p=SVR(kernel='poly')\n",
    "svr_p.fit(x_train,y_train)\n",
    "print(svr_p.score(x_train,y_train))\n",
    "svrpred_p=svr_p.predict(x_test)"
   ]
  },
  {
   "cell_type": "code",
   "execution_count": 351,
   "id": "df9aa54f",
   "metadata": {},
   "outputs": [
    {
     "name": "stdout",
     "output_type": "stream",
     "text": [
      "MSE: 0.3726886240928051\n",
      "MAE: 0.4422764641951786\n",
      "r2_score: 0.4143230585833756\n"
     ]
    }
   ],
   "source": [
    "print('MSE:',mean_squared_error(svrpred_p,y_test))\n",
    "print('MAE:',mean_absolute_error(svrpred_p,y_test))\n",
    "print('r2_score:',r2_score(svrpred_p,y_test))\n"
   ]
  },
  {
   "cell_type": "code",
   "execution_count": 353,
   "id": "4ace980b",
   "metadata": {},
   "outputs": [
    {
     "name": "stdout",
     "output_type": "stream",
     "text": [
      "0.6736065519874556\n"
     ]
    }
   ],
   "source": [
    "svr_r=SVR(kernel='rbf')\n",
    "svr_r.fit(x_train,y_train)\n",
    "print(svr_r.score(x_train,y_train))\n",
    "svrpred_r=svr_r.predict(x_test)"
   ]
  },
  {
   "cell_type": "code",
   "execution_count": 354,
   "id": "a784dc7d",
   "metadata": {},
   "outputs": [
    {
     "name": "stdout",
     "output_type": "stream",
     "text": [
      "MSE: 0.353289563305399\n",
      "MAE: 0.434951332624168\n",
      "r2_score: 0.4020847104809693\n"
     ]
    }
   ],
   "source": [
    "print('MSE:',mean_squared_error(svrpred_r,y_test))\n",
    "print('MAE:',mean_absolute_error(svrpred_r,y_test))\n",
    "print('r2_score:',r2_score(svrpred_r,y_test))"
   ]
  },
  {
   "cell_type": "code",
   "execution_count": 356,
   "id": "51abf451",
   "metadata": {},
   "outputs": [
    {
     "name": "stdout",
     "output_type": "stream",
     "text": [
      "0.9500399511201382\n"
     ]
    }
   ],
   "source": [
    "#RandomForestRegressor\n",
    "from sklearn.ensemble import RandomForestRegressor\n",
    "\n",
    "RF=RandomForestRegressor()\n",
    "RF.fit(x_train,y_train)\n",
    "print(RF.score(x_train,y_train))\n",
    "RF_PRED=RF.predict(x_test)"
   ]
  },
  {
   "cell_type": "code",
   "execution_count": 357,
   "id": "809fb9ca",
   "metadata": {},
   "outputs": [
    {
     "name": "stdout",
     "output_type": "stream",
     "text": [
      "MSE: 0.28267631865588017\n",
      "MAE: 0.39032084519464344\n",
      "r2_score: 0.5883982760920079\n"
     ]
    }
   ],
   "source": [
    "print('MSE:',mean_squared_error(RF_PRED,y_test))\n",
    "print('MAE:',mean_absolute_error(RF_PRED,y_test))\n",
    "print('r2_score:',r2_score(RF_PRED,y_test))"
   ]
  },
  {
   "cell_type": "code",
   "execution_count": 359,
   "id": "1d1055a7",
   "metadata": {},
   "outputs": [
    {
     "name": "stdout",
     "output_type": "stream",
     "text": [
      "0.9900323341786048\n"
     ]
    }
   ],
   "source": [
    "#DecisionTreeRegressor\n",
    "from sklearn.tree import DecisionTreeRegressor\n",
    "\n",
    "DTR=DecisionTreeRegressor()\n",
    "DTR.fit(x_train,y_train)\n",
    "print(DTR.score(x_train,y_train))\n",
    "DTR_PRED=DTR.predict(x_test)"
   ]
  },
  {
   "cell_type": "code",
   "execution_count": 360,
   "id": "5f7c8c51",
   "metadata": {},
   "outputs": [
    {
     "name": "stdout",
     "output_type": "stream",
     "text": [
      "MSE: 0.48564938134361996\n",
      "MAE: 0.5083046561632015\n",
      "r2_score: 0.4950669459426378\n"
     ]
    }
   ],
   "source": [
    "print('MSE:',mean_squared_error(DTR_PRED,y_test))\n",
    "print('MAE:',mean_absolute_error(DTR_PRED,y_test))\n",
    "print('r2_score:',r2_score(DTR_PRED,y_test))"
   ]
  },
  {
   "cell_type": "code",
   "execution_count": 362,
   "id": "66649fa0",
   "metadata": {},
   "outputs": [
    {
     "name": "stdout",
     "output_type": "stream",
     "text": [
      "0.8458355838792584\n"
     ]
    }
   ],
   "source": [
    "#GradientBoostingRegressor\n",
    "from sklearn.ensemble import GradientBoostingRegressor\n",
    "\n",
    "GBR=GradientBoostingRegressor()\n",
    "GBR.fit(x_train,y_train)\n",
    "print(GBR.score(x_train,y_train))\n",
    "GBR_PRED=GBR.predict(x_test)"
   ]
  },
  {
   "cell_type": "code",
   "execution_count": 363,
   "id": "a75fb5e9",
   "metadata": {},
   "outputs": [
    {
     "name": "stdout",
     "output_type": "stream",
     "text": [
      "MSE: 0.2857301328915459\n",
      "MAE: 0.39880917215722594\n",
      "r2_score: 0.5746529573055323\n"
     ]
    }
   ],
   "source": [
    "print('MSE:',mean_squared_error(GBR_PRED,y_test))\n",
    "print('MAE:',mean_absolute_error(GBR_PRED,y_test))\n",
    "print('r2_score:',r2_score(GBR_PRED,y_test))"
   ]
  },
  {
   "cell_type": "code",
   "execution_count": 366,
   "id": "6958a000",
   "metadata": {},
   "outputs": [
    {
     "name": "stdout",
     "output_type": "stream",
     "text": [
      "LR    : 0.477262, 0.086720\n",
      "R    : 0.476230, 0.086434\n",
      "svr    : 0.484988, 0.098526\n",
      "svr_p    : 0.376849, 0.066901\n",
      "svr_r    : 0.357975, 0.070380\n",
      "RF    : 0.310977, 0.079553\n",
      "DTR    : 0.511560, 0.102317\n",
      "GBR    : 0.295548, 0.071599\n"
     ]
    }
   ],
   "source": [
    "#cross validation\n",
    "from sklearn.model_selection import cross_val_score\n",
    "\n",
    "np.random.seed(10)\n",
    "def rmse_cv(model, x,y):\n",
    "    rmse =- (cross_val_score(model, x,y, scoring='neg_mean_squared_error', cv=10))\n",
    "    return(rmse)\n",
    "\n",
    "\n",
    "models = [LinearRegression(),\n",
    "             Ridge(),\n",
    "             SVR(kernel='linear'),\n",
    "             SVR(kernel='poly'),\n",
    "             SVR(kernel='rbf'),\n",
    "             RandomForestRegressor(),\n",
    "             DecisionTreeRegressor(),  \n",
    "             GradientBoostingRegressor(),]\n",
    "            \n",
    "\n",
    "\n",
    "names = ['LR','R','svr','svr_p','svr_r','RF','DTR','GBR']\n",
    "\n",
    "for model,name in zip(models,names):\n",
    "    score = rmse_cv(model,x,y)\n",
    "    print(\"{}    : {:.6f}, {:4f}\".format(name,score.mean(),score.std()))"
   ]
  },
  {
   "cell_type": "markdown",
   "id": "116037e6",
   "metadata": {},
   "source": [
    "According to all metrics score selecting the GradientBoostingRegressoras for GridSeachCV"
   ]
  },
  {
   "cell_type": "code",
   "execution_count": 369,
   "id": "a14670b7",
   "metadata": {},
   "outputs": [],
   "source": [
    "#HYPER PARAMETER TUNING:\n",
    "#GridSearchCV\n",
    "from sklearn.model_selection import GridSearchCV"
   ]
  },
  {
   "cell_type": "code",
   "execution_count": 371,
   "id": "a50950e1",
   "metadata": {},
   "outputs": [],
   "source": [
    "GF=GradientBoostingRegressor()\n",
    "param={\n",
    "     'criterion':['mse','mae'],\n",
    "     'n_estimators':[100, 200],\n",
    "    }"
   ]
  },
  {
   "cell_type": "code",
   "execution_count": 372,
   "id": "99be90e7",
   "metadata": {},
   "outputs": [],
   "source": [
    "GF_grid=GridSearchCV(RandomForestRegressor(),param,cv=10,scoring='accuracy',n_jobs=-1,verbose=2)"
   ]
  },
  {
   "cell_type": "code",
   "execution_count": 373,
   "id": "8f92f208",
   "metadata": {},
   "outputs": [
    {
     "name": "stdout",
     "output_type": "stream",
     "text": [
      "Fitting 10 folds for each of 4 candidates, totalling 40 fits\n"
     ]
    }
   ],
   "source": [
    "GF_grid.fit(x_train,y_train)\n",
    "GF_grid_pred=GF_grid.best_estimator_.predict(x_test)"
   ]
  },
  {
   "cell_type": "code",
   "execution_count": 374,
   "id": "affb7f7a",
   "metadata": {},
   "outputs": [
    {
     "data": {
      "text/plain": [
       "{'criterion': 'mse', 'n_estimators': 100}"
      ]
     },
     "execution_count": 374,
     "metadata": {},
     "output_type": "execute_result"
    }
   ],
   "source": [
    "GF_grid.best_params_"
   ]
  },
  {
   "cell_type": "code",
   "execution_count": 375,
   "id": "1c021072",
   "metadata": {},
   "outputs": [
    {
     "name": "stdout",
     "output_type": "stream",
     "text": [
      "MSE: 0.28381250899482013\n",
      "MAE: 0.3985122571410602\n",
      "r2_score: 0.578588145230655\n"
     ]
    }
   ],
   "source": [
    "print('MSE:',mean_squared_error(GF_grid_pred,y_test))\n",
    "print('MAE:',mean_absolute_error(GF_grid_pred,y_test))\n",
    "print('r2_score:',r2_score(GF_grid_pred,y_test))"
   ]
  },
  {
   "cell_type": "code",
   "execution_count": 376,
   "id": "40db84c2",
   "metadata": {},
   "outputs": [
    {
     "data": {
      "text/plain": [
       "<AxesSubplot:xlabel='capacity_mw', ylabel='Density'>"
      ]
     },
     "execution_count": 376,
     "metadata": {},
     "output_type": "execute_result"
    },
    {
     "data": {
      "image/png": "[encoded data removed]",
      "text/plain": [
       "<Figure size 432x288 with 1 Axes>"
      ]
     },
     "metadata": {},
     "output_type": "display_data"
    }
   ],
   "source": [
    "sns.distplot(GF_grid_pred-y_test)"
   ]
  },
  {
   "cell_type": "code",
   "execution_count": 377,
   "id": "524169ac",
   "metadata": {},
   "outputs": [
    {
     "data": {
      "text/plain": [
       "[<matplotlib.lines.Line2D at 0x21427f32dc0>]"
      ]
     },
     "execution_count": 377,
     "metadata": {},
     "output_type": "execute_result"
    },
    {
     "data": {
      "image/png": "[encoded data removed]",
      "text/plain": [
       "<Figure size 432x288 with 1 Axes>"
      ]
     },
     "metadata": {},
     "output_type": "display_data"
    }
   ],
   "source": [
    "plt.scatter(GF_grid_pred,y_test)\n",
    "plt.plot(y_test,y_test,linewidth=2,color='Red')"
   ]
  },
  {
   "cell_type": "code",
   "execution_count": 387,
   "id": "50522e37",
   "metadata": {},
   "outputs": [],
   "source": [
    "#TAKING 'primary_fuel' AS TARGET , CREATING CLASSIFICATION MODEL\n",
    "#Dividing data into X and Y\n",
    "x=df.drop(['primary_fuel'],axis=1)\n",
    "y=df['primary_fuel']"
   ]
  },
  {
   "cell_type": "code",
   "execution_count": 393,
   "id": "1198aa29",
   "metadata": {},
   "outputs": [
    {
     "data": {
      "text/plain": [
       "(761, 12)"
      ]
     },
     "execution_count": 393,
     "metadata": {},
     "output_type": "execute_result"
    }
   ],
   "source": [
    "x.shape"
   ]
  },
  {
   "cell_type": "code",
   "execution_count": 394,
   "id": "15e163f8",
   "metadata": {},
   "outputs": [
    {
     "data": {
      "text/plain": [
       "(761,)"
      ]
     },
     "execution_count": 394,
     "metadata": {},
     "output_type": "execute_result"
    }
   ],
   "source": [
    "y.shape"
   ]
  },
  {
   "cell_type": "code",
   "execution_count": 396,
   "id": "0356e69a",
   "metadata": {},
   "outputs": [],
   "source": [
    "#Spliting Train and Test data\n",
    "from sklearn.model_selection import train_test_split"
   ]
  },
  {
   "cell_type": "code",
   "execution_count": 397,
   "id": "45ada29f",
   "metadata": {},
   "outputs": [],
   "source": [
    "x_train,x_test,y_train,y_test=train_test_split(x,y,test_size=.27,random_state=42)"
   ]
  },
  {
   "cell_type": "code",
   "execution_count": 398,
   "id": "c9233646",
   "metadata": {},
   "outputs": [
    {
     "data": {
      "text/plain": [
       "(555, 12)"
      ]
     },
     "execution_count": 398,
     "metadata": {},
     "output_type": "execute_result"
    }
   ],
   "source": [
    "x_train.shape"
   ]
  },
  {
   "cell_type": "code",
   "execution_count": 400,
   "id": "1f9d3cea",
   "metadata": {},
   "outputs": [
    {
     "data": {
      "text/plain": [
       "(206, 12)"
      ]
     },
     "execution_count": 400,
     "metadata": {},
     "output_type": "execute_result"
    }
   ],
   "source": [
    "x_test.shape"
   ]
  },
  {
   "cell_type": "code",
   "execution_count": 401,
   "id": "ee978c74",
   "metadata": {},
   "outputs": [
    {
     "data": {
      "text/plain": [
       "(555,)"
      ]
     },
     "execution_count": 401,
     "metadata": {},
     "output_type": "execute_result"
    }
   ],
   "source": [
    "y_train.shape"
   ]
  },
  {
   "cell_type": "code",
   "execution_count": 402,
   "id": "fd325cf3",
   "metadata": {},
   "outputs": [
    {
     "data": {
      "text/plain": [
       "(206,)"
      ]
     },
     "execution_count": 402,
     "metadata": {},
     "output_type": "execute_result"
    }
   ],
   "source": [
    "y_test.shape"
   ]
  },
  {
   "cell_type": "code",
   "execution_count": 404,
   "id": "901c7394",
   "metadata": {},
   "outputs": [],
   "source": [
    "#MODEL BUILDING:\n",
    "#Importing necessary libraries\n",
    "\n",
    "from sklearn.linear_model import LogisticRegression\n",
    "\n",
    "from sklearn.svm import SVC\n",
    "from sklearn.tree import DecisionTreeClassifier\n",
    "from sklearn.neighbors import KNeighborsClassifier\n",
    "from sklearn.model_selection import train_test_split\n",
    "from sklearn.metrics import accuracy_score,confusion_matrix,classification_report\n",
    "from sklearn.ensemble import RandomForestClassifier\n",
    "from sklearn.ensemble import AdaBoostClassifier\n",
    "from sklearn.ensemble import BaggingClassifier\n",
    "from sklearn.ensemble import GradientBoostingClassifier\n",
    "from sklearn.model_selection import GridSearchCV\n",
    "from sklearn.metrics import precision_score\n",
    "from sklearn.metrics import recall_score\n",
    "from sklearn.metrics import f1_score\n",
    "\n",
    "import warnings\n",
    "from sklearn.model_selection import cross_val_score\n",
    "warnings.filterwarnings('ignore')"
   ]
  },
  {
   "cell_type": "code",
   "execution_count": 407,
   "id": "3960d6a4",
   "metadata": {},
   "outputs": [
    {
     "name": "stdout",
     "output_type": "stream",
     "text": [
      "cross validation score: 0.6228844169246646\n"
     ]
    }
   ],
   "source": [
    "#LogisticRegression\n",
    "logreg=LogisticRegression()\n",
    "logreg_score=cross_val_score(logreg,x,y,cv=5,scoring='accuracy')\n",
    "print(\"cross validation score:\",np.mean(logreg_score))"
   ]
  },
  {
   "cell_type": "code",
   "execution_count": 408,
   "id": "c37f332c",
   "metadata": {},
   "outputs": [
    {
     "name": "stdout",
     "output_type": "stream",
     "text": [
      "0.6553398058252428\n",
      "[[ 0  1  0  0  0  0 13  2]\n",
      " [ 0  6  0 11  0  0 13  4]\n",
      " [ 0  1  0 11  0  0  1  0]\n",
      " [ 0  1  0 64  0  0  0  0]\n",
      " [ 0  1  0  0  0  0  0  0]\n",
      " [ 0  0  0  4  0  0  2  0]\n",
      " [ 0  0  2  0  0  0 29  4]\n",
      " [ 0  0  0  0  0  0  0 36]]\n",
      "              precision    recall  f1-score   support\n",
      "\n",
      "           0       0.00      0.00      0.00        16\n",
      "           1       0.60      0.18      0.27        34\n",
      "           2       0.00      0.00      0.00        13\n",
      "           3       0.71      0.98      0.83        65\n",
      "           4       0.00      0.00      0.00         1\n",
      "           5       0.00      0.00      0.00         6\n",
      "           6       0.50      0.83      0.62        35\n",
      "           7       0.78      1.00      0.88        36\n",
      "\n",
      "    accuracy                           0.66       206\n",
      "   macro avg       0.32      0.37      0.33       206\n",
      "weighted avg       0.55      0.66      0.56       206\n",
      "\n",
      "Training accuracy:: 0.6162162162162163\n",
      "Test accuracy:: 0.6553398058252428\n"
     ]
    }
   ],
   "source": [
    "logreg.fit(x_train,y_train)\n",
    "LR_predicted=logreg.predict(x_test)\n",
    "\n",
    "print(accuracy_score(y_test,LR_predicted))\n",
    "print(confusion_matrix(y_test,LR_predicted))\n",
    "print(classification_report(y_test,LR_predicted))\n",
    "print(\"Training accuracy::\",logreg.score(x_train,y_train))\n",
    "print(\"Test accuracy::\",logreg.score(x_test,y_test))"
   ]
  },
  {
   "cell_type": "code",
   "execution_count": 410,
   "id": "df656924",
   "metadata": {},
   "outputs": [
    {
     "name": "stdout",
     "output_type": "stream",
     "text": [
      "cross validation score for svm: 0.8225834193326452\n"
     ]
    }
   ],
   "source": [
    "#DECISION TREE CLASSIFIER\n",
    "dtc=DecisionTreeClassifier()\n",
    "dtc_score=cross_val_score(dtc,x,y,cv=5,scoring='accuracy')\n",
    "print(\"cross validation score for svm:\",np.mean(dtc_score))"
   ]
  },
  {
   "cell_type": "code",
   "execution_count": 411,
   "id": "a91c6292",
   "metadata": {},
   "outputs": [
    {
     "name": "stdout",
     "output_type": "stream",
     "text": [
      "0.8252427184466019\n",
      "[[14  2  0  0  0  0  0  0]\n",
      " [ 3 21  4  5  0  1  0  0]\n",
      " [ 0  3  6  2  0  2  0  0]\n",
      " [ 0  4  4 55  1  1  0  0]\n",
      " [ 0  0  1  0  0  0  0  0]\n",
      " [ 0  0  2  1  0  3  0  0]\n",
      " [ 0  0  0  0  0  0 35  0]\n",
      " [ 0  0  0  0  0  0  0 36]]\n",
      "              precision    recall  f1-score   support\n",
      "\n",
      "           0       0.82      0.88      0.85        16\n",
      "           1       0.70      0.62      0.66        34\n",
      "           2       0.35      0.46      0.40        13\n",
      "           3       0.87      0.85      0.86        65\n",
      "           4       0.00      0.00      0.00         1\n",
      "           5       0.43      0.50      0.46         6\n",
      "           6       1.00      1.00      1.00        35\n",
      "           7       1.00      1.00      1.00        36\n",
      "\n",
      "    accuracy                           0.83       206\n",
      "   macro avg       0.65      0.66      0.65       206\n",
      "weighted avg       0.83      0.83      0.83       206\n",
      "\n",
      "Training accuracy:: 1.0\n",
      "Test accuracy:: 0.8252427184466019\n"
     ]
    }
   ],
   "source": [
    "dtc.fit(x_train,y_train)\n",
    "predicted_dtc=dtc.predict(x_test)\n",
    "print(accuracy_score(y_test,predicted_dtc))\n",
    "print(confusion_matrix(y_test,predicted_dtc))\n",
    "print(classification_report(y_test,predicted_dtc))\n",
    "print(\"Training accuracy::\",dtc.score(x_train,y_train))\n",
    "print(\"Test accuracy::\",dtc.score(x_test,y_test))"
   ]
  },
  {
   "cell_type": "code",
   "execution_count": 413,
   "id": "8404fd3c",
   "metadata": {},
   "outputs": [
    {
     "name": "stdout",
     "output_type": "stream",
     "text": [
      "cross validation score for knn: 0.7030099759201927\n"
     ]
    }
   ],
   "source": [
    "#KNeighborsClassifier\n",
    "knn=KNeighborsClassifier()\n",
    "knn_score=cross_val_score(knn,x,y,cv=5,scoring='accuracy')\n",
    "print(\"cross validation score for knn:\",np.mean(knn_score))"
   ]
  },
  {
   "cell_type": "code",
   "execution_count": 414,
   "id": "a4354f56",
   "metadata": {},
   "outputs": [
    {
     "name": "stdout",
     "output_type": "stream",
     "text": [
      "0.6990291262135923\n",
      "[[ 9  3  2  0  0  0  2  0]\n",
      " [ 5 21  3  4  0  0  1  0]\n",
      " [ 1  4  0  5  0  3  0  0]\n",
      " [ 0  8  2 55  0  0  0  0]\n",
      " [ 0  1  0  0  0  0  0  0]\n",
      " [ 0  3  2  0  0  1  0  0]\n",
      " [ 1 11  1  0  0  0 22  0]\n",
      " [ 0  0  0  0  0  0  0 36]]\n",
      "              precision    recall  f1-score   support\n",
      "\n",
      "           0       0.56      0.56      0.56        16\n",
      "           1       0.41      0.62      0.49        34\n",
      "           2       0.00      0.00      0.00        13\n",
      "           3       0.86      0.85      0.85        65\n",
      "           4       0.00      0.00      0.00         1\n",
      "           5       0.25      0.17      0.20         6\n",
      "           6       0.88      0.63      0.73        35\n",
      "           7       1.00      1.00      1.00        36\n",
      "\n",
      "    accuracy                           0.70       206\n",
      "   macro avg       0.50      0.48      0.48       206\n",
      "weighted avg       0.71      0.70      0.70       206\n",
      "\n",
      "Training accuracy:: 0.781981981981982\n",
      "Test accuracy:: 0.6990291262135923\n"
     ]
    }
   ],
   "source": [
    "knn.fit(x_train,y_train)\n",
    "predicted_knn=knn.predict(x_test)\n",
    "print(accuracy_score(y_test,predicted_knn))\n",
    "print(confusion_matrix(y_test,predicted_knn))\n",
    "print(classification_report(y_test,predicted_knn))\n",
    "print(\"Training accuracy::\",knn.score(x_train,y_train))\n",
    "print(\"Test accuracy::\",knn.score(x_test,y_test))"
   ]
  },
  {
   "cell_type": "code",
   "execution_count": 416,
   "id": "f63e783c",
   "metadata": {},
   "outputs": [
    {
     "name": "stdout",
     "output_type": "stream",
     "text": [
      "cross validation score for rfc: 0.8554609563123495\n"
     ]
    }
   ],
   "source": [
    "#RandomForestClassifier\n",
    "rfc=RandomForestClassifier()\n",
    "rfc_score=cross_val_score(rfc,x,y,cv=5,scoring='accuracy')\n",
    "print(\"cross validation score for rfc:\",np.mean(rfc_score))"
   ]
  },
  {
   "cell_type": "code",
   "execution_count": 417,
   "id": "6d847b36",
   "metadata": {},
   "outputs": [
    {
     "name": "stdout",
     "output_type": "stream",
     "text": [
      "0.8495145631067961\n",
      "[[13  3  0  0  0  0  0  0]\n",
      " [ 2 24  2  5  0  1  0  0]\n",
      " [ 0  4  4  3  0  2  0  0]\n",
      " [ 0  1  4 60  0  0  0  0]\n",
      " [ 0  1  0  0  0  0  0  0]\n",
      " [ 0  0  3  0  0  3  0  0]\n",
      " [ 0  0  0  0  0  0 35  0]\n",
      " [ 0  0  0  0  0  0  0 36]]\n",
      "              precision    recall  f1-score   support\n",
      "\n",
      "           0       0.87      0.81      0.84        16\n",
      "           1       0.73      0.71      0.72        34\n",
      "           2       0.31      0.31      0.31        13\n",
      "           3       0.88      0.92      0.90        65\n",
      "           4       0.00      0.00      0.00         1\n",
      "           5       0.50      0.50      0.50         6\n",
      "           6       1.00      1.00      1.00        35\n",
      "           7       1.00      1.00      1.00        36\n",
      "\n",
      "    accuracy                           0.85       206\n",
      "   macro avg       0.66      0.66      0.66       206\n",
      "weighted avg       0.84      0.85      0.85       206\n",
      "\n",
      "Training accuracy:: 1.0\n",
      "Test accuracy:: 0.8495145631067961\n"
     ]
    }
   ],
   "source": [
    "rfc.fit(x_train,y_train)\n",
    "predicted_rfc=rfc.predict(x_test)\n",
    "print(accuracy_score(y_test,predicted_rfc))\n",
    "print(confusion_matrix(y_test,predicted_rfc))\n",
    "print(classification_report(y_test,predicted_rfc))\n",
    "print(\"Training accuracy::\",rfc.score(x_train,y_train))\n",
    "print(\"Test accuracy::\",rfc.score(x_test,y_test))"
   ]
  },
  {
   "cell_type": "code",
   "execution_count": 419,
   "id": "0244a199",
   "metadata": {},
   "outputs": [
    {
     "name": "stdout",
     "output_type": "stream",
     "text": [
      "cross validation score for Ada boost: 0.5743677375256322\n"
     ]
    }
   ],
   "source": [
    "# ADA BOOST CLASSIFIER\n",
    "adb=AdaBoostClassifier()\n",
    "adb_score=cross_val_score(adb,x,y,cv=10,scoring='accuracy')\n",
    "print(\"cross validation score for Ada boost:\",np.mean(adb_score))"
   ]
  },
  {
   "cell_type": "code",
   "execution_count": 422,
   "id": "1eb8f907",
   "metadata": {},
   "outputs": [
    {
     "name": "stdout",
     "output_type": "stream",
     "text": [
      "0.6553398058252428\n",
      "[[ 0  0  0 16  0  0  0  0]\n",
      " [ 0  0  0 30  0  0  0  4]\n",
      " [ 0  0  0 13  0  0  0  0]\n",
      " [ 0  0  0 65  0  0  0  0]\n",
      " [ 0  0  0  1  0  0  0  0]\n",
      " [ 0  0  0  6  0  0  0  0]\n",
      " [ 0  0  0  1  0  0 34  0]\n",
      " [ 0  0  0  0  0  0  0 36]]\n",
      "              precision    recall  f1-score   support\n",
      "\n",
      "           0       0.00      0.00      0.00        16\n",
      "           1       0.00      0.00      0.00        34\n",
      "           2       0.00      0.00      0.00        13\n",
      "           3       0.49      1.00      0.66        65\n",
      "           4       0.00      0.00      0.00         1\n",
      "           5       0.00      0.00      0.00         6\n",
      "           6       1.00      0.97      0.99        35\n",
      "           7       0.90      1.00      0.95        36\n",
      "\n",
      "    accuracy                           0.66       206\n",
      "   macro avg       0.30      0.37      0.32       206\n",
      "weighted avg       0.48      0.66      0.54       206\n",
      "\n",
      "Training accuracy:: 0.6288288288288288\n",
      "Test accuracy:: 0.6553398058252428\n"
     ]
    }
   ],
   "source": [
    "adb.fit(x_train,y_train)\n",
    "predicted_adb=adb.predict(x_test)\n",
    "print(accuracy_score(y_test,predicted_adb))\n",
    "print(confusion_matrix(y_test,predicted_adb))\n",
    "print(classification_report(y_test,predicted_adb))\n",
    "print(\"Training accuracy::\",adb.score(x_train,y_train))\n",
    "print(\"Test accuracy::\",adb.score(x_test,y_test))"
   ]
  },
  {
   "cell_type": "code",
   "execution_count": 423,
   "id": "fd8db5d0",
   "metadata": {},
   "outputs": [
    {
     "name": "stdout",
     "output_type": "stream",
     "text": [
      "cross validation score for BAGGING Classifier: 0.8554682159945319\n"
     ]
    }
   ],
   "source": [
    "#BAGGING CLASSIFIER\n",
    "bgc=BaggingClassifier()\n",
    "bgc_score=cross_val_score(bgc,x,y,cv=10,scoring='accuracy')\n",
    "print(\"cross validation score for BAGGING Classifier:\",np.mean(bgc_score))"
   ]
  },
  {
   "cell_type": "code",
   "execution_count": 427,
   "id": "e128b448",
   "metadata": {},
   "outputs": [
    {
     "name": "stdout",
     "output_type": "stream",
     "text": [
      "0.8495145631067961\n",
      "[[15  1  0  0  0  0  0  0]\n",
      " [ 3 23  3  4  0  1  0  0]\n",
      " [ 0  4  3  4  0  2  0  0]\n",
      " [ 0  1  3 61  0  0  0  0]\n",
      " [ 0  1  0  0  0  0  0  0]\n",
      " [ 1  0  2  1  0  2  0  0]\n",
      " [ 0  0  0  0  0  0 35  0]\n",
      " [ 0  0  0  0  0  0  0 36]]\n",
      "              precision    recall  f1-score   support\n",
      "\n",
      "           0       0.79      0.94      0.86        16\n",
      "           1       0.77      0.68      0.72        34\n",
      "           2       0.27      0.23      0.25        13\n",
      "           3       0.87      0.94      0.90        65\n",
      "           4       0.00      0.00      0.00         1\n",
      "           5       0.40      0.33      0.36         6\n",
      "           6       1.00      1.00      1.00        35\n",
      "           7       1.00      1.00      1.00        36\n",
      "\n",
      "    accuracy                           0.85       206\n",
      "   macro avg       0.64      0.64      0.64       206\n",
      "weighted avg       0.84      0.85      0.84       206\n",
      "\n",
      "Training accuracy:: 0.990990990990991\n",
      "Test accuracy:: 0.8495145631067961\n"
     ]
    }
   ],
   "source": [
    "bgc.fit(x_train,y_train)\n",
    "predicted_bgc=bgc.predict(x_test)\n",
    "print(accuracy_score(y_test,predicted_bgc))\n",
    "print(confusion_matrix(y_test,predicted_bgc))\n",
    "print(classification_report(y_test,predicted_bgc))\n",
    "print(\"Training accuracy::\",bgc.score(x_train,y_train))\n",
    "print(\"Test accuracy::\",bgc.score(x_test,y_test))"
   ]
  },
  {
   "cell_type": "code",
   "execution_count": 429,
   "id": "90b1a7d9",
   "metadata": {},
   "outputs": [
    {
     "name": "stdout",
     "output_type": "stream",
     "text": [
      "cross validation score for Gradient Boosting Classifier: 0.851537935748462\n"
     ]
    }
   ],
   "source": [
    "#Gradient Boosting classifier\n",
    "grbc=GradientBoostingClassifier()\n",
    "grbc_score=cross_val_score(grbc,x,y,cv=10,scoring='accuracy')\n",
    "print(\"cross validation score for Gradient Boosting Classifier:\",np.mean(grbc_score))"
   ]
  },
  {
   "cell_type": "code",
   "execution_count": 430,
   "id": "9ca3bfd2",
   "metadata": {},
   "outputs": [
    {
     "name": "stdout",
     "output_type": "stream",
     "text": [
      "0.8446601941747572\n",
      "[[12  4  0  0  0  0  0  0]\n",
      " [ 5 22  0  5  1  1  0  0]\n",
      " [ 0  2  7  3  0  1  0  0]\n",
      " [ 0  1  4 60  0  0  0  0]\n",
      " [ 0  1  0  0  0  0  0  0]\n",
      " [ 0  0  4  0  0  2  0  0]\n",
      " [ 0  0  0  0  0  0 35  0]\n",
      " [ 0  0  0  0  0  0  0 36]]\n",
      "              precision    recall  f1-score   support\n",
      "\n",
      "           0       0.71      0.75      0.73        16\n",
      "           1       0.73      0.65      0.69        34\n",
      "           2       0.47      0.54      0.50        13\n",
      "           3       0.88      0.92      0.90        65\n",
      "           4       0.00      0.00      0.00         1\n",
      "           5       0.50      0.33      0.40         6\n",
      "           6       1.00      1.00      1.00        35\n",
      "           7       1.00      1.00      1.00        36\n",
      "\n",
      "    accuracy                           0.84       206\n",
      "   macro avg       0.66      0.65      0.65       206\n",
      "weighted avg       0.84      0.84      0.84       206\n",
      "\n",
      "Training accuracy:: 1.0\n",
      "Test accuracy:: 0.8446601941747572\n"
     ]
    }
   ],
   "source": [
    "grbc.fit(x_train,y_train)\n",
    "predicted_grbc=grbc.predict(x_test)\n",
    "print(accuracy_score(y_test,predicted_grbc))\n",
    "print(confusion_matrix(y_test,predicted_grbc))\n",
    "print(classification_report(y_test,predicted_grbc))\n",
    "print(\"Training accuracy::\",grbc.score(x_train,y_train))\n",
    "print(\"Test accuracy::\",grbc.score(x_test,y_test))"
   ]
  },
  {
   "cell_type": "markdown",
   "id": "119c9a78",
   "metadata": {},
   "source": [
    "Random Forest Classifier has better efficiency for HYPER PARAMETER TUNING"
   ]
  },
  {
   "cell_type": "code",
   "execution_count": 433,
   "id": "c36a00cd",
   "metadata": {},
   "outputs": [],
   "source": [
    "#HYPER PARAMETER TUNING:\n",
    "rfc=RandomForestClassifier()\n",
    "param_grid={\n",
    "    'criterion' : [\"gini\", \"entropy\"],\n",
    "    'n_estimators':[200,50],\n",
    "    'min_samples_split':[2,3],\n",
    "     'random_state':[10]              \n",
    "}"
   ]
  },
  {
   "cell_type": "code",
   "execution_count": 434,
   "id": "be9d558d",
   "metadata": {},
   "outputs": [],
   "source": [
    "rfc_grid=GridSearchCV(RandomForestClassifier(),param_grid,cv=4,scoring='accuracy',n_jobs=-1,verbose=2)"
   ]
  },
  {
   "cell_type": "code",
   "execution_count": 435,
   "id": "842c1193",
   "metadata": {},
   "outputs": [
    {
     "name": "stdout",
     "output_type": "stream",
     "text": [
      "Fitting 4 folds for each of 8 candidates, totalling 32 fits\n",
      "Accuracy after parameter tuning:: 0.8640776699029126\n"
     ]
    }
   ],
   "source": [
    "rfc_grid.fit(x_train,y_train)\n",
    "rfc_pred=rfc_grid.best_estimator_.predict(x_test)\n",
    "print(\"Accuracy after parameter tuning::\",accuracy_score(y_test,rfc_pred))"
   ]
  },
  {
   "cell_type": "code",
   "execution_count": 436,
   "id": "4f20330a",
   "metadata": {},
   "outputs": [
    {
     "data": {
      "text/plain": [
       "{'criterion': 'gini',\n",
       " 'min_samples_split': 2,\n",
       " 'n_estimators': 200,\n",
       " 'random_state': 10}"
      ]
     },
     "execution_count": 436,
     "metadata": {},
     "output_type": "execute_result"
    }
   ],
   "source": [
    "rfc_grid.best_params_"
   ]
  },
  {
   "cell_type": "code",
   "execution_count": 440,
   "id": "e0d2432a",
   "metadata": {},
   "outputs": [],
   "source": [
    "best_param={\n",
    "    'criterion' : ['gini'],\n",
    "    'n_estimators':[200],\n",
    "    'min_samples_split':[2],\n",
    "     'random_state':[10]    }"
   ]
  },
  {
   "cell_type": "code",
   "execution_count": 441,
   "id": "06c6cd1a",
   "metadata": {},
   "outputs": [],
   "source": [
    "best_rfc_grid=GridSearchCV(RandomForestClassifier(),best_param,cv=4,scoring='accuracy',n_jobs=-1,verbose=2)"
   ]
  },
  {
   "cell_type": "code",
   "execution_count": 442,
   "id": "71dbc116",
   "metadata": {},
   "outputs": [
    {
     "name": "stdout",
     "output_type": "stream",
     "text": [
      "Fitting 4 folds for each of 1 candidates, totalling 4 fits\n",
      "Accuracy after parameter tuning:: 0.8640776699029126\n"
     ]
    }
   ],
   "source": [
    "best_rfc_grid.fit(x_train,y_train)\n",
    "best_rfc_pred=best_rfc_grid.best_estimator_.predict(x_test)\n",
    "print(\"Accuracy after parameter tuning::\",accuracy_score(y_test,best_rfc_pred))"
   ]
  },
  {
   "cell_type": "code",
   "execution_count": 444,
   "id": "23e51caa",
   "metadata": {},
   "outputs": [
    {
     "name": "stdout",
     "output_type": "stream",
     "text": [
      "CLASSIFICATION REPORT::\n",
      "               precision    recall  f1-score   support\n",
      "\n",
      "           0       0.88      0.88      0.88        16\n",
      "           1       0.80      0.71      0.75        34\n",
      "           2       0.40      0.46      0.43        13\n",
      "           3       0.88      0.92      0.90        65\n",
      "           4       0.00      0.00      0.00         1\n",
      "           5       0.50      0.50      0.50         6\n",
      "           6       1.00      1.00      1.00        35\n",
      "           7       1.00      1.00      1.00        36\n",
      "\n",
      "    accuracy                           0.86       206\n",
      "   macro avg       0.68      0.68      0.68       206\n",
      "weighted avg       0.86      0.86      0.86       206\n",
      "\n"
     ]
    }
   ],
   "source": [
    "print(\"CLASSIFICATION REPORT::\\n\",classification_report(y_test,best_rfc_pred))"
   ]
  },
  {
   "cell_type": "code",
   "execution_count": null,
   "id": "fb32bb08",
   "metadata": {},
   "outputs": [],
   "source": []
  }
 ],
 "metadata": {
  "kernelspec": {
   "display_name": "Python 3 (ipykernel)",
   "language": "python",
   "name": "python3"
  },
  "language_info": {
   "codemirror_mode": {
    "name": "ipython",
    "version": 3
   },
   "file_extension": ".py",
   "mimetype": "text/x-python",
   "name": "python",
   "nbconvert_exporter": "python",
   "pygments_lexer": "ipython3",
   "version": "3.11.1"
  }
 },
 "nbformat": 4,
 "nbformat_minor": 5
}
