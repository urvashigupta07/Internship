{
 "cells": [
  {
   "cell_type": "code",
   "execution_count": 24,
   "id": "9e13bd12",
   "metadata": {},
   "outputs": [
    {
     "name": "stdout",
     "output_type": "stream",
     "text": [
      "Hello::Hope:you:are:doing:good:\n"
     ]
    }
   ],
   "source": [
    "#Question 1- Write a Python program to replace all occurrences of a space, comma, or dot with a colon.\n",
    "#Sample Text- 'Python Exercises, PHP exercises.'\n",
    "#Expected Output: Python:Exercises::PHP:exercises:\n",
    "\n",
    "#ANSWER 1:\n",
    "import re\n",
    "\n",
    "replac_1 = 'Hello, Hope you are doing good.'\n",
    "print(re.sub(\"[ ,.]\", \":\", replac_1))"
   ]
  },
  {
   "cell_type": "code",
   "execution_count": 42,
   "id": "b1661d36",
   "metadata": {},
   "outputs": [
    {
     "name": "stdout",
     "output_type": "stream",
     "text": [
      "['am', 'eplace', 'all', 'ences', 'ace']\n"
     ]
    }
   ],
   "source": [
    "#Question 2-  Write a Python program to find all words starting with 'a' or 'e' in a given string.\n",
    "\n",
    "#ANSWER 2:\n",
    "\n",
    "string_2=\"Write a Python program to replace all occurrences of a space, comma, or dot with a colon.\"\n",
    "list = re.findall(\"[ae]\\w+\", string_2)\n",
    "print(list)"
   ]
  },
  {
   "cell_type": "code",
   "execution_count": 40,
   "id": "95da8c6c",
   "metadata": {},
   "outputs": [],
   "source": [
    "#Question 3- Create a function in python to find all words that are at least 4 characters long in a string. \n",
    "#The use of the re.compile() method is mandatory.\n",
    "\n",
    "#ANSWER 3:\n",
    "\n",
    "def find_words(string_3):\n",
    "    str_pattern = r\"\\w{4,}\" \n",
    "    regex_pattern=re.compile(str_pattern)\n",
    "    result = regex_pattern.findall(string_3)\n",
    "    print(result)"
   ]
  },
  {
   "cell_type": "code",
   "execution_count": 41,
   "id": "22a5d8e8",
   "metadata": {},
   "outputs": [
    {
     "name": "stdout",
     "output_type": "stream",
     "text": [
      "['know', 'good', 'should', 'make', 'class', 'monitor']\n"
     ]
    }
   ],
   "source": [
    "string_3 = \"I know him. He is a good boy.We should make him class monitor.\" \n",
    "find_words(string_3)"
   ]
  },
  {
   "cell_type": "code",
   "execution_count": 37,
   "id": "6bb7321f",
   "metadata": {},
   "outputs": [],
   "source": [
    "#Question 4- Create a function in python to find all three, four, and five character words in a string.\n",
    "#The use of the re.compile() method is mandatory.\n",
    "\n",
    "#ANSWER 4:\n",
    "\n",
    "def find_words(string_4):\n",
    "    str_pattern = r\"\\w{3,5}\"\n",
    "    regex_pattern=re.compile(str_pattern)\n",
    "    result = regex_pattern.findall(string_4)\n",
    "    print(result)"
   ]
  },
  {
   "cell_type": "code",
   "execution_count": 38,
   "id": "9f34a08c",
   "metadata": {},
   "outputs": [
    {
     "name": "stdout",
     "output_type": "stream",
     "text": [
      "['know', 'him', 'good', 'boy', 'shoul', 'make', 'him', 'class', 'monit']\n"
     ]
    }
   ],
   "source": [
    "string_4 = \"I know him. He is a good boy.We should make him class monitor.\"\n",
    "find_words(string_4)"
   ]
  },
  {
   "cell_type": "code",
   "execution_count": 31,
   "id": "451edba3",
   "metadata": {},
   "outputs": [],
   "source": [
    "#Question 5- Create a function in Python to remove the parenthesis in a list of strings. The use of the re.compile() method is mandatory.\n",
    "#Sample Text: [\"example (.com)\", \"hr@fliprobo (.com)\", \"github (.com)\", \"Hello (Data Science World)\", \"Data (Scientist)\"]\n",
    "#Expected Output:\n",
    "#example.com\n",
    "#hr@fliprobo.com\n",
    "#github.com\n",
    "#Hello Data Science World\n",
    "#Data Scientist\n",
    "\n",
    "#ANSWER 5:\n",
    "\n",
    "def remove_parenthesis(string_5):\n",
    "    str_pattern = r'\\(|\\)'\n",
    "    regex_pattern=re.compile(str_pattern)\n",
    "    return [regex_pattern.sub('', s) for s in string_5]"
   ]
  },
  {
   "cell_type": "code",
   "execution_count": 57,
   "id": "658edca5",
   "metadata": {},
   "outputs": [
    {
     "name": "stdout",
     "output_type": "stream",
     "text": [
      "['example ', 'hr@fliprobo ', 'github ']\n"
     ]
    }
   ],
   "source": [
    "\n",
    "string_5 = ['example (.com)', 'hr@fliprobo (.com)', 'github (.com)']\n",
    "print(remove_parenthesis(string_5))    "
   ]
  },
  {
   "cell_type": "code",
   "execution_count": 88,
   "id": "c8b7ae76",
   "metadata": {},
   "outputs": [
    {
     "name": "stdout",
     "output_type": "stream",
     "text": [
      "example , hr@fliprobo , github , Hello , Data \n"
     ]
    }
   ],
   "source": [
    "#Question 6- Write a python program to remove the parenthesis area from the text stored in the text file using Regular Expression.\n",
    "#Sample Text: [\"example (.com)\", \"hr@fliprobo (.com)\", \"github (.com)\", \"Hello (Data Science World)\", \"Data (Scientist)\"]\n",
    "#Expected Output: [\"example\", \"hr@fliprobo\", \"github\", \"Hello\", \"Data\"]\n",
    "\n",
    "#ANSWER 6:\n",
    "\n",
    "with open(\"Document.txt\") as file:\n",
    "    for line in file:\n",
    "        regex_pattern = re.compile(r'\\([^)]*\\)')\n",
    "        print(regex_pattern.sub('', line))       "
   ]
  },
  {
   "cell_type": "code",
   "execution_count": 83,
   "id": "39acb7a5",
   "metadata": {},
   "outputs": [
    {
     "name": "stdout",
     "output_type": "stream",
     "text": [
      "['Importance', 'Of', 'Regular', 'Expressions', 'In', 'Python']\n"
     ]
    }
   ],
   "source": [
    "#Question 7- Write a regular expression in Python to split a string into uppercase letters.\n",
    "#Sample text: “ImportanceOfRegularExpressionsInPython”\n",
    "#Expected Output: [‘Importance’, ‘Of’, ‘Regular’, ‘Expression’, ‘In’, ‘Python’]\n",
    "\n",
    "#ANSWER 7:\n",
    "\n",
    "string_7 = \"ImportanceOfRegularExpressionsInPython\"\n",
    "result = re.findall(r'[A-Z][a-z]*', string_7)\n",
    "print(result)"
   ]
  },
  {
   "cell_type": "code",
   "execution_count": 51,
   "id": "e5980137",
   "metadata": {},
   "outputs": [],
   "source": [
    "#Question 8- Create a function in python to insert spaces between words starting with numbers.\n",
    "#Sample Text: “RegularExpression1IsAn2ImportantTopic3InPython\"\n",
    "#Expected Output: RegularExpression 1IsAn 2ImportantTopic 3InPython\n",
    "\n",
    "#ANSWER 8:\n",
    "\n",
    "def insert_spaces(text_8):\n",
    "    return re.sub(r'(?<=[0-9])(?=[A-Za-z])', ' ', text_8)"
   ]
  },
  {
   "cell_type": "code",
   "execution_count": 53,
   "id": "22e46039",
   "metadata": {},
   "outputs": [
    {
     "name": "stdout",
     "output_type": "stream",
     "text": [
      "RegularExpression1 IsAn2 ImportantTopic3 InPython\n"
     ]
    }
   ],
   "source": [
    "text_8 = \"RegularExpression1IsAn2ImportantTopic3InPython\"\n",
    "\n",
    "print(insert_spaces(text_8))"
   ]
  },
  {
   "cell_type": "code",
   "execution_count": 74,
   "id": "e516aaf5",
   "metadata": {},
   "outputs": [],
   "source": [
    "#Question 9- Create a function in python to insert spaces between words starting with capital letters or with numbers.\n",
    "#Sample Text: “RegularExpression1IsAn2ImportantTopic3InPython\"\n",
    "#Expected Output:  RegularExpression 1 IsAn 2 ImportantTopic 3 InPython\n",
    "\n",
    "#ANSWER 9:\n",
    "\n",
    "def insert_spaces_(words_9):\n",
    "    return re.sub(r'(?<=[0-9A-Z])(?=[A-Z])|(?<=[A-Z])(?=[0-9])|(?<=[0-9A-Za-z])(?=[0-9])', ' ', words_9)"
   ]
  },
  {
   "cell_type": "code",
   "execution_count": 75,
   "id": "310c7719",
   "metadata": {},
   "outputs": [
    {
     "name": "stdout",
     "output_type": "stream",
     "text": [
      "RegularExpression 1 IsAn 2 ImportantTopic 3 InPython\n"
     ]
    }
   ],
   "source": [
    "words_9 = \"RegularExpression1IsAn2ImportantTopic3InPython\"\n",
    "\n",
    "print(insert_spaces_(words_9))"
   ]
  },
  {
   "cell_type": "code",
   "execution_count": 92,
   "id": "21c3f3db",
   "metadata": {},
   "outputs": [
    {
     "name": "stdout",
     "output_type": "stream",
     "text": [
      "xyz@domain.com\n",
      "xyz.abc@sdomain.domain.com\n",
      "hr@fliprobo.com\n"
     ]
    }
   ],
   "source": [
    "#Question 10- Write a python program to extract email address from the text stored in the text file using Regular Expression.\n",
    "#Sample Text- Hello my name is Data Science and my email address is xyz@domain.com and alternate email address is xyz.abc@sdomain.domain.com. \n",
    "#Please contact us at hr@fliprobo.com for further information. \n",
    "#Expected Output: \n",
    "#['xyz@domain.com', 'xyz.abc@sdomain.domain.com'] ['hr@fliprobo.com']\n",
    "\n",
    "#Note- Store given sample text in the text file and then extract email addresses.\n",
    "\n",
    "#ANSWER 10:\n",
    "\n",
    "with open(\"Document10.txt\") as file:\n",
    "    for line in file:\n",
    "        email_addresses = re.findall(r'\\b[A-Za-z0-9._%+-]+@[A-Za-z0-9.-]+\\.[A-Z|a-z]{2,7}\\b', line)\n",
    "        for email in email_addresses:\n",
    "            print(email)"
   ]
  },
  {
   "cell_type": "code",
   "execution_count": 105,
   "id": "13753e60",
   "metadata": {},
   "outputs": [
    {
     "name": "stdout",
     "output_type": "stream",
     "text": [
      "Uppercase\n",
      "lowercase\n",
      "123456\n",
      "_underscore\n",
      "UPPERCASE\n"
     ]
    }
   ],
   "source": [
    "#Question 11- Write a Python program to match a string that contains only upper and lowercase letters, numbers, and underscores.\n",
    "\n",
    "#ANSWER 11:\n",
    "\n",
    "string_11 = [\"Uppercase\", \"lowercase\", \"%^&*()*&^$#\", \"123456\", \"_underscore\", \"UPPERCASE\",\"+_)(*&*(?><:\"\"))\"]\n",
    "\n",
    "for string in string_11:\n",
    "    if re.match(r'^[A-Za-z0-9_]+$', string):\n",
    "        print(string)"
   ]
  },
  {
   "cell_type": "code",
   "execution_count": 110,
   "id": "5a211d54",
   "metadata": {},
   "outputs": [
    {
     "name": "stdout",
     "output_type": "stream",
     "text": [
      "123python\n",
      "123String\n"
     ]
    }
   ],
   "source": [
    "#Question 12- Write a Python program where a string will start with a specific number. \n",
    "\n",
    "#ANSWER 12: \n",
    "\n",
    "string_12 = [\"123python\", \"456Program\", \"123String\", \"Specific123\", \"789Number\"]\n",
    "\n",
    "specific_number = 123\n",
    "for output_string in string_12:\n",
    "    if output_string.startswith(str(specific_number)):\n",
    "        print(output_string)   "
   ]
  },
  {
   "cell_type": "code",
   "execution_count": 117,
   "id": "b70d5875",
   "metadata": {},
   "outputs": [
    {
     "name": "stdout",
     "output_type": "stream",
     "text": [
      "100.100.1.1\n",
      "10.1.1.10\n",
      "0.1.0.1\n",
      "255.255.255.255\n"
     ]
    }
   ],
   "source": [
    "#Question 13- Write a Python program to remove leading zeros from an IP address\n",
    "\n",
    "#ANSWER 13:\n",
    "\n",
    "ip_add = [\"100.100.001.001\", \"010.001.001.010\", \"000.001.000.001\", \"255.255.255.255\"]\n",
    "\n",
    "for ip in ip_add:\n",
    "    parts = ip.split('.')\n",
    "    new_parts = [str(int(part)) for part in parts]\n",
    "    new_ip = '.'.join(new_parts)\n",
    "    print(new_ip)"
   ]
  },
  {
   "cell_type": "code",
   "execution_count": 119,
   "id": "dcf2f596",
   "metadata": {},
   "outputs": [
    {
     "name": "stdout",
     "output_type": "stream",
     "text": [
      "August 15th 1947\n"
     ]
    }
   ],
   "source": [
    "#Question 14- Write a regular expression in python to match a date string in the form of Month name followed by day number and year stored in a text file.\n",
    "#Sample text :  ' On August 15th 1947 that India was declared independent from British colonialism, and the reins of control were handed over to the leaders of the Country’.\n",
    "#Expected Output- August 15th 1947\n",
    "#Note- Store given sample text in the text file and then extract the date string asked format.\n",
    "\n",
    "#ANSWER 14:\n",
    "\n",
    "regex_pattern = r'([A-Za-z]+ \\d{1,2}(?:st|nd|rd|th)? \\d{4})'\n",
    "\n",
    "with open(\"TEXT_14.txt\") as file:\n",
    "    text = file.read()\n",
    "    matches = re.findall(regex_pattern, text)\n",
    "    for match in matches:\n",
    "        print(match)"
   ]
  },
  {
   "cell_type": "code",
   "execution_count": 142,
   "id": "2b622db1",
   "metadata": {},
   "outputs": [
    {
     "name": "stdout",
     "output_type": "stream",
     "text": [
      "Searching \"fox\" in \"The quick brown fox jumps over the lazy dog.\" ---\n",
      "Matched!\n",
      "Searching \"dog\" in \"The quick brown fox jumps over the lazy dog.\" ---\n",
      "Matched!\n",
      "Searching \"horse\" in \"The quick brown fox jumps over the lazy dog.\" ---\n",
      "Not Matched!\n"
     ]
    }
   ],
   "source": [
    "#Question 15- Write a Python program to search some literals strings in a string. \n",
    "#Sample text : 'The quick brown fox jumps over the lazy dog.'\n",
    "#Searched words : 'fox', 'dog', 'horse'\n",
    "\n",
    "#ANSWER 15:\n",
    "\n",
    "string_15 = [ 'fox', 'dog', 'horse' ]\n",
    "strings = 'The quick brown fox jumps over the lazy dog.'\n",
    "for string in string_15:\n",
    "    print('Searching \"%s\" in \"%s\" ---' % (string, strings),)\n",
    "    if re.search(string,  strings):\n",
    "        print('Matched!')\n",
    "    else:\n",
    "        print('Not Matched!')  "
   ]
  },
  {
   "cell_type": "code",
   "execution_count": 139,
   "id": "3b94726f",
   "metadata": {},
   "outputs": [
    {
     "name": "stdout",
     "output_type": "stream",
     "text": [
      "\"fox\" in \"The quick brown fox jumps over the lazy dog.\" from 16 to 19 \n"
     ]
    }
   ],
   "source": [
    "#Question 16- Write a Python program to search a literals string in a string and also find the location within the original string where the pattern occurs\n",
    "#Sample text : 'The quick brown fox jumps over the lazy dog.'\n",
    "#Searched words : 'fox'\n",
    "\n",
    "#ANSWER 16: \n",
    "\n",
    "searched_word = 'fox'\n",
    "string_16 = 'The quick brown fox jumps over the lazy dog.'\n",
    "match = re.search(searched_word, string_16)\n",
    "s = match.start()\n",
    "e = match.end()\n",
    "print('\"%s\" in \"%s\" from %d to %d ' % (match.re.pattern, match.string, s, e))\n"
   ]
  },
  {
   "cell_type": "code",
   "execution_count": 137,
   "id": "bd40fdfe",
   "metadata": {},
   "outputs": [
    {
     "name": "stdout",
     "output_type": "stream",
     "text": [
      " \"exercises\"\n",
      " \"exercises\"\n",
      " \"exercises\"\n"
     ]
    }
   ],
   "source": [
    "#Question 17- Write a Python program to find the substrings within a string.\n",
    "#Sample text : 'Python exercises, PHP exercises, C# exercises'\n",
    "#Pattern : 'exercises'.\n",
    "\n",
    "#ANSWER 17:\n",
    "\n",
    "string_17 = 'Python exercises, PHP exercises, C# exercises'\n",
    "pattern = 'exercises'\n",
    "for match in re.findall(pattern, string_17):\n",
    "    print(' \"%s\"' % match)"
   ]
  },
  {
   "cell_type": "code",
   "execution_count": 138,
   "id": "467e2333",
   "metadata": {},
   "outputs": [
    {
     "name": "stdout",
     "output_type": "stream",
     "text": [
      "\"exercises\" at 7:16\n",
      "\"exercises\" at 22:31\n",
      "\"exercises\" at 36:45\n"
     ]
    }
   ],
   "source": [
    "#Question 18- Write a Python program to find the occurrence and position of the substrings within a string.\n",
    "\n",
    "#ANSWER 18:\n",
    "\n",
    "string_18 = 'Python exercises, PHP exercises, C# exercises'\n",
    "pattern = 'exercises'\n",
    "for match in re.finditer(pattern, string_18):\n",
    "    s = match.start()\n",
    "    e = match.end()\n",
    "    print('\"%s\" at %d:%d' % (string_18[s:e], s, e))"
   ]
  },
  {
   "cell_type": "code",
   "execution_count": 145,
   "id": "664ca18a",
   "metadata": {},
   "outputs": [
    {
     "name": "stdout",
     "output_type": "stream",
     "text": [
      "Date in YYY-MM-DD Format:  2023-08-08\n",
      "Date in DD-MM-YYYY Format:  08-08-2023\n"
     ]
    }
   ],
   "source": [
    "#Question 19- Write a Python program to convert a date of yyyy-mm-dd format to dd-mm-yyyy format.\n",
    "\n",
    "#ANSWER 20: \n",
    "\n",
    "date1 = \"2023-08-08\"\n",
    "print(\"Date in YYY-MM-DD Format: \", date1)\n",
    "date2 = re.sub(r'(\\d{4})-(\\d{1,2})-(\\d{1,2})', r'\\3-\\2-\\1', date1)\n",
    "print(\"Date in DD-MM-YYYY Format: \", date2)"
   ]
  },
  {
   "cell_type": "code",
   "execution_count": 152,
   "id": "8e20fac6",
   "metadata": {},
   "outputs": [],
   "source": [
    "#Question 20- Create a function in python to find all decimal numbers with a precision of 1 or 2 in a string. The use of the re.compile() method is mandatory.\n",
    "\n",
    "#ANSWER 20:\n",
    "\n",
    "def find_decimal(number):\n",
    "    import re\n",
    "    dnumre = re.compile(r\"\"\"^[0-9]+(\\.[0-9]{1,2})?$\"\"\")\n",
    "    result = dnumre.search(number)\n",
    "    return bool(result)"
   ]
  },
  {
   "cell_type": "code",
   "execution_count": 154,
   "id": "895dfdf9",
   "metadata": {},
   "outputs": [
    {
     "name": "stdout",
     "output_type": "stream",
     "text": [
      "True\n",
      "True\n",
      "True\n",
      "False\n"
     ]
    }
   ],
   "source": [
    "print(find_decimal('432.45'))\n",
    "print(find_decimal('895'))\n",
    "print(find_decimal('26790.6'))\n",
    "print(find_decimal('0.789797'))"
   ]
  },
  {
   "cell_type": "code",
   "execution_count": 159,
   "id": "31c20dbf",
   "metadata": {},
   "outputs": [
    {
     "name": "stdout",
     "output_type": "stream",
     "text": [
      "50\n",
      "position: 18\n",
      "20\n",
      "position: 34\n",
      "100\n",
      "position: 53\n"
     ]
    }
   ],
   "source": [
    "#Question 21- Write a Python program to separate and print the numbers and their position of a given string.\n",
    "\n",
    "#ANSWER 21:\n",
    "\n",
    "string_21 = \"Vaibhav score was 50. Ankit cored 20. Aneesha scored 100.\"\n",
    "\n",
    "for num in re.finditer(\"\\d+\", string_21):\n",
    "    print(num.group(0))\n",
    "    print(\"position:\", num.start())"
   ]
  },
  {
   "cell_type": "code",
   "execution_count": 161,
   "id": "6716fcfc",
   "metadata": {},
   "outputs": [
    {
     "name": "stdout",
     "output_type": "stream",
     "text": [
      "The maximum numeric value is: {max_numeric_value}\n"
     ]
    }
   ],
   "source": [
    "#Question 22- Write a regular expression in python program to extract maximum/largest numeric value from a string.\n",
    "#Sample Text:  'My marks in each semester are: 947, 896, 926, 524, 734, 950, 642'\n",
    "#Expected Output: 950\n",
    "\n",
    "#ANSWER 22:\n",
    "\n",
    "string_22 = 'My marks in each semester are: 947, 896, 926, 524, 734, 950, 642'\n",
    "\n",
    "numeric_values = re.findall(r'\\d+', string_22)\n",
    "max_numeric_value = max(map(int, numeric_values))\n",
    "print(\"The maximum numeric value is: {max_numeric_value}\")\n"
   ]
  },
  {
   "cell_type": "code",
   "execution_count": 162,
   "id": "1ad0169a",
   "metadata": {},
   "outputs": [],
   "source": [
    "#Question 23- Create a function in python to insert spaces between words starting with capital letters.\n",
    "#Sample Text: “RegularExpressionIsAnImportantTopicInPython\"\n",
    "#Expected Output: Regular Expression Is An Important Topic In Python\n",
    "\n",
    "#ANSWER 23:\n",
    "\n",
    "def insert_spaces(string_23):\n",
    "    result = re.sub(r'([a-z])([A-Z])', r'\\1 \\2', text)\n",
    "    return result"
   ]
  },
  {
   "cell_type": "code",
   "execution_count": 166,
   "id": "a87b1dc8",
   "metadata": {},
   "outputs": [
    {
     "name": "stdout",
     "output_type": "stream",
     "text": [
      "Regular Expression Is An Important Topic In Python\n"
     ]
    }
   ],
   "source": [
    "string_23 = \"RegularExpressionIsAnImportantTopicInPython\"\n",
    "\n",
    "print(insert_spaces(string_23))"
   ]
  },
  {
   "cell_type": "code",
   "execution_count": 177,
   "id": "60f6c528",
   "metadata": {},
   "outputs": [
    {
     "name": "stdout",
     "output_type": "stream",
     "text": [
      "Uppercase\n",
      "ABCDefghi\n"
     ]
    }
   ],
   "source": [
    "#Question 24- Python regex to find sequences of one upper case letter followed by lower case letters\n",
    "\n",
    "#ANSWER 25:\n",
    "\n",
    "string_24 = [\"Uppercase\", \"lowercase\", \"_ABC_def_\", \"ABCDefghi\", \"_underscore\", \"UPPERCASE\"]\n",
    "\n",
    "for string in string_24:\n",
    "    if re.search(r'[A-Z][a-z]+', string):\n",
    "        print(string)"
   ]
  },
  {
   "cell_type": "code",
   "execution_count": 178,
   "id": "5b04243e",
   "metadata": {},
   "outputs": [
    {
     "name": "stdout",
     "output_type": "stream",
     "text": [
      "Hello hello world\n"
     ]
    }
   ],
   "source": [
    "#Question 25- Write a Python program to remove continuous duplicate words from Sentence using Regular Expression.\n",
    "#Sample Text: \"Hello hello world world\"\n",
    "#Expected Output: Hello hello world\n",
    "\n",
    "#ANSWER 25:\n",
    "\n",
    "string_25 = \"Hello hello world world\"\n",
    "new_string = re.sub(r'\\b(\\w+)\\s+\\1\\b', r'\\1', string_25)\n",
    "print(new_string)"
   ]
  },
  {
   "cell_type": "code",
   "execution_count": 190,
   "id": "fc19f288",
   "metadata": {},
   "outputs": [
    {
     "name": "stdout",
     "output_type": "stream",
     "text": [
      "\"Hello123\" is accepted as it ends with alphanumeric character.\n",
      "\"Python\" is accepted as it ends with alphanumeric character.\n",
      "\"_language\" is accepted as it ends with alphanumeric character.\n"
     ]
    }
   ],
   "source": [
    "#Question 26-  Write a python program using RegEx to accept string ending with alphanumeric character.\n",
    "\n",
    "#ANSWER 26:\n",
    "\n",
    "regex_pattern = r'^.*[a-zA-Z0-9]$'\n",
    "string_26 = [\"Hello123\", \"world*\", \"Python\", \"is a+\", \"_language\"]\n",
    "\n",
    "for string in string_26:\n",
    "    if re.match(regex_pattern, string):\n",
    "        print(f'\"{string}\" is accepted as it ends with alphanumeric character.')\n",
    " "
   ]
  },
  {
   "cell_type": "code",
   "execution_count": 194,
   "id": "1edc98c6",
   "metadata": {},
   "outputs": [
    {
     "name": "stdout",
     "output_type": "stream",
     "text": [
      "['#Doltiwal', '#xyzabc', '#Demonetization']\n"
     ]
    }
   ],
   "source": [
    "#Question 27-Write a python program using RegEx to extract the hashtags.\n",
    "#Sample Text:  \"\"\"RT @kapil_kausik: #Doltiwal I mean #xyzabc is \"hurt\" by #Demonetization as the same has rendered USELESS <ed><U+00A0><U+00BD><ed><U+00B1><U+0089> \"acquired funds\" No wo\"\"\"\n",
    "#Expected Output: ['#Doltiwal', '#xyzabc', '#Demonetization']\n",
    "\n",
    "#ANSWER 27:\n",
    "\n",
    "string_27 = \"\"\"RT @kapil_kausik: #Doltiwal I mean #xyzabc is \"hurt\" by #Demonetization as the same has rendered USELESS <ed><U+00A0><U+00BD><ed><U+00B1><U+0089> \"acquired funds\" No wo\"\"\"\n",
    "regex_pattern = r'#\\w+'\n",
    "x_hashtags = re.findall(regex_pattern, string_27)\n",
    "print(x_hashtags)"
   ]
  },
  {
   "cell_type": "code",
   "execution_count": 197,
   "id": "2963c14b",
   "metadata": {},
   "outputs": [
    {
     "name": "stdout",
     "output_type": "stream",
     "text": [
      "@Jags123456 Bharat band on 28??<ed><ed>Those who  are protesting #demonetization  are all different party leaders\n"
     ]
    }
   ],
   "source": [
    "#Question 28- Write a python program using RegEx to remove <U+..> like symbols\n",
    "#Check the below sample text, there are strange symbols something of the sort <U+..> all over the place. You need to come up with a general Regex expression that will cover all such symbols.\n",
    "#Sample Text: \"@Jags123456 Bharat band on 28??<ed><U+00A0><U+00BD><ed><U+00B8><U+0082>Those who  are protesting #demonetization  are all different party leaders\"\n",
    "#Expected Output: @Jags123456 Bharat band on 28??<ed><ed>Those who  are protesting #demonetization  are all different party leaders\n",
    "\n",
    "#ANSWER 28:\n",
    "\n",
    "string_28 = \"@Jags123456 Bharat band on 28??<ed><U+00A0><U+00BD><ed><U+00B8><U+0082>Those who  are protesting #demonetization  are all different party leaders\"\n",
    "regex_pattern = r'<U\\+[A-Za-z0-9]+>'\n",
    "cleaned_string = re.sub(regex_pattern, '', string_28)\n",
    "print(cleaned_string)"
   ]
  },
  {
   "cell_type": "code",
   "execution_count": 201,
   "id": "259c472f",
   "metadata": {},
   "outputs": [
    {
     "name": "stdout",
     "output_type": "stream",
     "text": [
      "['12-09-1992', '15-12-1999']\n"
     ]
    }
   ],
   "source": [
    "#Question 29- Write a python program to extract dates from the text stored in the text file.\n",
    "#Sample Text: Ron was born on 12-09-1992 and he was admitted to school 15-12-1999.\n",
    "#Note- Store this sample text in the file and then extract dates.\n",
    "\n",
    "#ANSWER 29:\n",
    "\n",
    "with open(\"Document29.txt\", \"r\") as file:\n",
    "    text = file.read()\n",
    "regex_pattern = r'\\b\\d{2}-\\d{2}-\\d{4}\\b'\n",
    "dates = re.findall(regex_pattern, text)\n",
    "print(dates)"
   ]
  },
  {
   "cell_type": "code",
   "execution_count": 210,
   "id": "7ada43dc",
   "metadata": {},
   "outputs": [],
   "source": [
    "#Question 30- Create a function in python to remove all words from a string of length between 2 and 4.\n",
    "#The use of the re.compile() method is mandatory.\n",
    "#Sample Text: \"The following example creates an ArrayList with a capacity of 50 elements. 4 elements are then added to the ArrayList and the ArrayList is trimmed accordingly.\"\n",
    "#Expected Output:  following example creates ArrayList a capacity elements. 4 elements added ArrayList ArrayList trimmed accordingly.\n",
    "\n",
    "#ANSWER 30:\n",
    "\n",
    "def remove_words(string_30):\n",
    "    regex_pattern = re.compile(r'\\b\\w{2,4}\\b')\n",
    "    result = regex_pattern.sub('', string_30)\n",
    "    return result"
   ]
  },
  {
   "cell_type": "code",
   "execution_count": 212,
   "id": "d58fd1ba",
   "metadata": {},
   "outputs": [
    {
     "name": "stdout",
     "output_type": "stream",
     "text": [
      " following example creates  ArrayList  a capacity   elements. 4 elements   added   ArrayList   ArrayList  trimmed accordingly.\n"
     ]
    }
   ],
   "source": [
    "string_30 = \"The following example creates an ArrayList with a capacity of 50 elements. 4 elements are then added to the ArrayList and the ArrayList is trimmed accordingly.\"\n",
    "print(remove_words(string_30))"
   ]
  },
  {
   "cell_type": "code",
   "execution_count": null,
   "id": "e982182f",
   "metadata": {},
   "outputs": [],
   "source": []
  }
 ],
 "metadata": {
  "kernelspec": {
   "display_name": "Python 3 (ipykernel)",
   "language": "python",
   "name": "python3"
  },
  "language_info": {
   "codemirror_mode": {
    "name": "ipython",
    "version": 3
   },
   "file_extension": ".py",
   "mimetype": "text/x-python",
   "name": "python",
   "nbconvert_exporter": "python",
   "pygments_lexer": "ipython3",
   "version": "3.11.1"
  }
 },
 "nbformat": 4,
 "nbformat_minor": 5
}
