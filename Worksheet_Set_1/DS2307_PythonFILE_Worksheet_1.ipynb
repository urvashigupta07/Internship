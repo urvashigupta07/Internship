{
 "cells": [
  {
   "cell_type": "code",
   "execution_count": 1,
   "id": "2caddacb",
   "metadata": {},
   "outputs": [
    {
     "name": "stdout",
     "output_type": "stream",
     "text": [
      "Enter a number: 7\n",
      "Factorial of a number: 5040\n"
     ]
    }
   ],
   "source": [
    "#ANSWER 11:\n",
    "num = int(input(\"Enter a number: \"))\n",
    "factor = 1\n",
    "if num >= 1:\n",
    "    for i in range(1, num + 1):\n",
    "        factor = factor * i\n",
    "print(\"Factorial of a number:\", factor)"
   ]
  },
  {
   "cell_type": "code",
   "execution_count": 4,
   "id": "6b233314",
   "metadata": {},
   "outputs": [
    {
     "name": "stdout",
     "output_type": "stream",
     "text": [
      "Enter a number to check whether it is PRIME or COMPOSITE number : 7\n",
      "7 is a PRIME number.\n"
     ]
    }
   ],
   "source": [
    "#ANSWER 12:\n",
    "number = int(input(\"Enter a number to check whether it is PRIME or COMPOSITE number : \"))\n",
    "if number > 1:\n",
    "    for i in range(2, number):\n",
    "        if (number % i) == 0:\n",
    "            print(number, \"is not a prime number\")\n",
    "            break\n",
    "    else:\n",
    "        print(number, \"is a PRIME number.\")\n",
    "else:\n",
    "    print(number, \"is a COMPOSITE number.\")"
   ]
  },
  {
   "cell_type": "code",
   "execution_count": 7,
   "id": "a7879b4e",
   "metadata": {},
   "outputs": [
    {
     "name": "stdout",
     "output_type": "stream",
     "text": [
      "Enter a string: Radar\n",
      "The string is a palindrome.\n"
     ]
    }
   ],
   "source": [
    "#ANSWER 13:\n",
    "string = input(\"Enter a string: \")\n",
    "string = string.lower()  \n",
    "isa_palindrome = True\n",
    "for i in range(int(len(string) / 2)):\n",
    "    if string[i] != string[len(string) - i - 1]:\n",
    "        isa_palindrome = False\n",
    "        break\n",
    "if isa_palindrome:\n",
    "    print(\"The string is a palindrome.\")\n",
    "else:\n",
    "    print(\"The string is not a palindrome.\")"
   ]
  },
  {
   "cell_type": "code",
   "execution_count": 3,
   "id": "83195b87",
   "metadata": {},
   "outputs": [
    {
     "name": "stdout",
     "output_type": "stream",
     "text": [
      "Enter the length of the first side of right-angled triangle : 3\n",
      "Enter the length of the second side of right-angled triangle: 4\n",
      "The third side of right-angled triangle from two given sides: 5.0\n"
     ]
    }
   ],
   "source": [
    "#ANSWER 14:\n",
    "s1 = float(input(\"Enter the length of the first side of right-angled triangle : \"))\n",
    "s2 = float(input(\"Enter the length of the second side of right-angled triangle: \"))\n",
    "s3 = (s1 ** 2 + s2 ** 2) ** 0.5\n",
    "print(\"The third side of right-angled triangle from two given sides:\",s3)"
   ]
  },
  {
   "cell_type": "code",
   "execution_count": 13,
   "id": "34dd7926",
   "metadata": {},
   "outputs": [
    {
     "name": "stdout",
     "output_type": "stream",
     "text": [
      "Enter a string: Hello! How are you?\n",
      "Character  H 2 times\n",
      "Character  e 2 times\n",
      "Character  l 2 times\n",
      "Character  o 3 times\n",
      "Character  ! 1 times\n",
      "Character    3 times\n",
      "Character  w 1 times\n",
      "Character  a 1 times\n",
      "Character  r 1 times\n",
      "Character  y 1 times\n",
      "Character  u 1 times\n",
      "Character  ? 1 times\n"
     ]
    }
   ],
   "source": [
    "#ANSWER 15:\n",
    "input_string = input(\"Enter a string: \")\n",
    "char_freq = {}\n",
    "for char in input_string:\n",
    "    if char in char_freq:\n",
    "        char_freq[char] += 1\n",
    "    else:\n",
    "        char_freq[char] = 1\n",
    "for char, freq in char_freq.items():\n",
    "    print(\"Character \", char , freq, \"times\")"
   ]
  },
  {
   "cell_type": "code",
   "execution_count": null,
   "id": "31060226",
   "metadata": {},
   "outputs": [],
   "source": []
  }
 ],
 "metadata": {
  "kernelspec": {
   "display_name": "Python 3 (ipykernel)",
   "language": "python",
   "name": "python3"
  },
  "language_info": {
   "codemirror_mode": {
    "name": "ipython",
    "version": 3
   },
   "file_extension": ".py",
   "mimetype": "text/x-python",
   "name": "python",
   "nbconvert_exporter": "python",
   "pygments_lexer": "ipython3",
   "version": "3.11.1"
  }
 },
 "nbformat": 4,
 "nbformat_minor": 5
}
